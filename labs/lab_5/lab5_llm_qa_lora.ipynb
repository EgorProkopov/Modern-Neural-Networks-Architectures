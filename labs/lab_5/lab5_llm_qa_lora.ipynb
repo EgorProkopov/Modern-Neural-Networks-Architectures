{
 "cells": [
  {
   "cell_type": "markdown",
   "metadata": {},
   "source": [
    "# Лабораторная работа 5. Fine-tune LLM with LoRA"
   ]
  },
  {
   "cell_type": "markdown",
   "metadata": {},
   "source": [
    "\n",
    "В рамках этой лабораторной работы вам предстоит дообучить LLM на [датасете Stanford Question Answering Dataset (SQuAD)](https://www.kaggle.com/datasets/stanfordu/stanford-question-answering-dataset/data) с использованием LoRA.\n",
    "\n",
    "Загрузите модель `distilgpt2` или другую. Используйте библиотеку transformers для реализации дообучения.\n",
    "\n",
    "Дообучите модель с использованием LoRA. Оцените влияние использования LoRA на качество дообучения. В качестве доп. задания, можете сравнить ресурсозатратность обучение без LoRA и с.\n",
    "\n",
    "**Рекомендации**:\n",
    "- Загрузите модель в **4 или 8 бит**, чтобы уменьшить потребление памяти.\n",
    "- Используйте **fp16** (половинную точность) для ускорения вычислений.\n",
    "- Не используйте модель размером больше 1b параметров.\n",
    "- В примере подготовлена модель `distilgpt2`. Вы можете выбрать другую модель, которую позволяют ваши вычислительные ресурсы и время. \n",
    "- Рекомендуется работать на платформе **Kaggle**, так как она стабильнее.\n",
    "\n",
    "**Вопросы**:\n",
    "1. Что такое LoRA? Для чего применяется? В чем заключается основная идея?  \n",
    "2. Что такое BERT и GPT? Опишите их основные характеристики. Какие задачи они решают? Чем отличаются подходы этих моделей? В чем разница между генеративными (GPT) и энкодерными (BERT) моделями?\n",
    "3. Как вычисляются числа с использованием половинной точности (fp16)?  "
   ]
  },
  {
   "cell_type": "markdown",
   "metadata": {},
   "source": [
    "## Импорты"
   ]
  },
  {
   "cell_type": "code",
   "execution_count": null,
   "metadata": {
    "execution": {
     "iopub.execute_input": "2024-11-14T15:10:06.949028Z",
     "iopub.status.busy": "2024-11-14T15:10:06.948201Z",
     "iopub.status.idle": "2024-11-14T15:10:20.488301Z",
     "shell.execute_reply": "2024-11-14T15:10:20.487242Z",
     "shell.execute_reply.started": "2024-11-14T15:10:06.948986Z"
    },
    "trusted": true
   },
   "outputs": [],
   "source": [
    "!pip install transformers datasets peft -q"
   ]
  },
  {
   "cell_type": "code",
   "execution_count": null,
   "metadata": {
    "execution": {
     "iopub.execute_input": "2024-11-14T15:10:20.492140Z",
     "iopub.status.busy": "2024-11-14T15:10:20.490683Z",
     "iopub.status.idle": "2024-11-14T15:10:36.543446Z",
     "shell.execute_reply": "2024-11-14T15:10:36.542233Z",
     "shell.execute_reply.started": "2024-11-14T15:10:20.492086Z"
    },
    "trusted": true
   },
   "outputs": [],
   "source": [
    "!pip install -U bitsandbytes -q"
   ]
  },
  {
   "cell_type": "code",
   "execution_count": null,
   "metadata": {
    "execution": {
     "iopub.execute_input": "2024-11-14T15:10:36.545151Z",
     "iopub.status.busy": "2024-11-14T15:10:36.544832Z",
     "iopub.status.idle": "2024-11-14T15:10:51.407231Z",
     "shell.execute_reply": "2024-11-14T15:10:51.406179Z",
     "shell.execute_reply.started": "2024-11-14T15:10:36.545116Z"
    },
    "trusted": true
   },
   "outputs": [],
   "source": [
    "!pip uninstall wandb -q -y"
   ]
  },
  {
   "cell_type": "code",
   "execution_count": null,
   "metadata": {
    "execution": {
     "iopub.execute_input": "2024-11-14T15:12:20.733754Z",
     "iopub.status.busy": "2024-11-14T15:12:20.733334Z",
     "iopub.status.idle": "2024-11-14T15:12:20.738801Z",
     "shell.execute_reply": "2024-11-14T15:12:20.737778Z",
     "shell.execute_reply.started": "2024-11-14T15:12:20.733715Z"
    },
    "trusted": true
   },
   "outputs": [],
   "source": [
    "import json\n",
    "import torch\n",
    "from transformers import AutoModelForCausalLM, AutoTokenizer, BitsAndBytesConfig\n",
    "from datasets import Dataset\n",
    "from peft import LoraConfig, get_peft_model\n",
    "from transformers import TrainingArguments, Trainer"
   ]
  },
  {
   "cell_type": "markdown",
   "metadata": {},
   "source": [
    "## Загрузка датасета"
   ]
  },
  {
   "cell_type": "code",
   "execution_count": null,
   "metadata": {
    "execution": {
     "iopub.execute_input": "2024-11-14T15:11:12.247570Z",
     "iopub.status.busy": "2024-11-14T15:11:12.246929Z",
     "iopub.status.idle": "2024-11-14T15:11:12.254792Z",
     "shell.execute_reply": "2024-11-14T15:11:12.253717Z",
     "shell.execute_reply.started": "2024-11-14T15:11:12.247521Z"
    },
    "trusted": true
   },
   "outputs": [],
   "source": [
    "def load_data(file_path):\n",
    "    return data"
   ]
  },
  {
   "cell_type": "code",
   "execution_count": null,
   "metadata": {
    "execution": {
     "iopub.execute_input": "2024-11-14T15:11:12.256470Z",
     "iopub.status.busy": "2024-11-14T15:11:12.256081Z",
     "iopub.status.idle": "2024-11-14T15:11:15.713317Z",
     "shell.execute_reply": "2024-11-14T15:11:15.712466Z",
     "shell.execute_reply.started": "2024-11-14T15:11:12.256419Z"
    },
    "trusted": true
   },
   "outputs": [],
   "source": [
    "dataset = Dataset.from_dict({\n",
    "    'input': ...\n",
    "    'output': ...\n",
    "})"
   ]
  },
  {
   "cell_type": "code",
   "execution_count": null,
   "metadata": {
    "execution": {
     "iopub.execute_input": "2024-11-14T15:11:15.715462Z",
     "iopub.status.busy": "2024-11-14T15:11:15.714918Z",
     "iopub.status.idle": "2024-11-14T15:11:15.774077Z",
     "shell.execute_reply": "2024-11-14T15:11:15.773245Z",
     "shell.execute_reply.started": "2024-11-14T15:11:15.715415Z"
    },
    "trusted": true
   },
   "outputs": [],
   "source": [
    "dataset = dataset.train_test_split(test_size=0.1)"
   ]
  },
  {
   "cell_type": "markdown",
   "metadata": {},
   "source": [
    "## Загрузка модели и токенизатора"
   ]
  },
  {
   "cell_type": "code",
   "execution_count": null,
   "metadata": {
    "execution": {
     "iopub.execute_input": "2024-11-14T15:12:22.914655Z",
     "iopub.status.busy": "2024-11-14T15:12:22.914207Z",
     "iopub.status.idle": "2024-11-14T15:12:26.452809Z",
     "shell.execute_reply": "2024-11-14T15:12:26.451956Z",
     "shell.execute_reply.started": "2024-11-14T15:12:22.914617Z"
    },
    "trusted": true
   },
   "outputs": [],
   "source": [
    "model_name = \"distilbert/distilgpt2\"\n",
    "tokenizer = AutoTokenizer.from_pretrained(model_name)\n",
    "\n",
    "quantization_config = ...\n",
    "\n",
    "model = AutoModelForCausalLM.from_pretrained(\n",
    "    model_name,\n",
    "    quantization_config=quantization_config,\n",
    "    device_map=\"auto\",\n",
    ")"
   ]
  },
  {
   "cell_type": "code",
   "execution_count": null,
   "metadata": {
    "execution": {
     "iopub.execute_input": "2024-11-14T15:12:27.796292Z",
     "iopub.status.busy": "2024-11-14T15:12:27.795891Z",
     "iopub.status.idle": "2024-11-14T15:12:27.805055Z",
     "shell.execute_reply": "2024-11-14T15:12:27.804008Z",
     "shell.execute_reply.started": "2024-11-14T15:12:27.796255Z"
    },
    "trusted": true
   },
   "outputs": [],
   "source": [
    "model"
   ]
  },
  {
   "cell_type": "code",
   "execution_count": null,
   "metadata": {
    "execution": {
     "iopub.execute_input": "2024-11-14T15:12:28.092488Z",
     "iopub.status.busy": "2024-11-14T15:12:28.092089Z",
     "iopub.status.idle": "2024-11-14T15:12:28.126723Z",
     "shell.execute_reply": "2024-11-14T15:12:28.125765Z",
     "shell.execute_reply.started": "2024-11-14T15:12:28.092447Z"
    },
    "trusted": true
   },
   "outputs": [],
   "source": [
    "peft_config = LoraConfig(\n",
    "    ...\n",
    ")\n",
    "\n",
    "lora_model = get_peft_model(model, peft_config)\n",
    "lora_model.print_trainable_parameters()"
   ]
  },
  {
   "cell_type": "code",
   "execution_count": null,
   "metadata": {
    "execution": {
     "iopub.execute_input": "2024-11-14T15:12:29.499559Z",
     "iopub.status.busy": "2024-11-14T15:12:29.499139Z",
     "iopub.status.idle": "2024-11-14T15:12:29.504724Z",
     "shell.execute_reply": "2024-11-14T15:12:29.503732Z",
     "shell.execute_reply.started": "2024-11-14T15:12:29.499500Z"
    },
    "trusted": true
   },
   "outputs": [],
   "source": [
    "def tokenize_function(text):\n",
    "    return tokenizer(\n",
    "        ...\n",
    "    )"
   ]
  },
  {
   "cell_type": "code",
   "execution_count": null,
   "metadata": {
    "execution": {
     "iopub.execute_input": "2024-11-14T15:12:30.034009Z",
     "iopub.status.busy": "2024-11-14T15:12:30.033617Z",
     "iopub.status.idle": "2024-11-14T15:13:29.236994Z",
     "shell.execute_reply": "2024-11-14T15:13:29.236044Z",
     "shell.execute_reply.started": "2024-11-14T15:12:30.033973Z"
    },
    "trusted": true
   },
   "outputs": [],
   "source": [
    "tokenized_datasets = ...\n",
    "\n",
    "train_dataset = ...\n",
    "val_dataset = ..."
   ]
  },
  {
   "cell_type": "markdown",
   "metadata": {},
   "source": [
    "## Обучение"
   ]
  },
  {
   "cell_type": "code",
   "execution_count": null,
   "metadata": {
    "execution": {
     "iopub.execute_input": "2024-11-14T15:13:29.597870Z",
     "iopub.status.busy": "2024-11-14T15:13:29.597491Z",
     "iopub.status.idle": "2024-11-14T15:15:06.134084Z",
     "shell.execute_reply": "2024-11-14T15:15:06.132226Z",
     "shell.execute_reply.started": "2024-11-14T15:13:29.597835Z"
    },
    "trusted": true
   },
   "outputs": [],
   "source": [
    "training_args = TrainingArguments(\n",
    "    ...\n",
    ")"
   ]
  },
  {
   "cell_type": "code",
   "execution_count": null,
   "metadata": {
    "trusted": true
   },
   "outputs": [],
   "source": [
    "trainer = Trainer(\n",
    "    model=lora_model,\n",
    "    args=training_args,\n",
    "    train_dataset=train_dataset,\n",
    "    eval_dataset=val_dataset,\n",
    "    tokenizer=tokenizer,\n",
    ")\n",
    "\n",
    "trainer.train()"
   ]
  }
 ],
 "metadata": {
  "kaggle": {
   "accelerator": "gpu",
   "dataSources": [
    {
     "datasetId": 374,
     "sourceId": 799923,
     "sourceType": "datasetVersion"
    }
   ],
   "dockerImageVersionId": 30787,
   "isGpuEnabled": true,
   "isInternetEnabled": true,
   "language": "python",
   "sourceType": "notebook"
  },
  "kernelspec": {
   "display_name": "Python 3",
   "language": "python",
   "name": "python3"
  },
  "language_info": {
   "codemirror_mode": {
    "name": "ipython",
    "version": 3
   },
   "file_extension": ".py",
   "mimetype": "text/x-python",
   "name": "python",
   "nbconvert_exporter": "python",
   "pygments_lexer": "ipython3",
   "version": "3.10.14"
  }
 },
 "nbformat": 4,
 "nbformat_minor": 4
}
