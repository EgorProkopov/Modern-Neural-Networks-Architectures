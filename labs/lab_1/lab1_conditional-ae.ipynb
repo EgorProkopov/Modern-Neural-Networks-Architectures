{
 "cells": [
  {
   "cell_type": "markdown",
   "metadata": {
    "id": "cEEaLAKAPVR_"
   },
   "source": [
    "# Лабораторная работа 1. Условный автоэнкодер"
   ]
  },
  {
   "cell_type": "markdown",
   "metadata": {
    "id": "7A_PLc1QPVSE"
   },
   "source": [
    "В рамках этой лабораторной работы вам необходимо модифицировать автоэнкодер и добавить к нему слой-условие. В качестве датасета используйте fashionMNIST.\n",
    "\n",
    "1. Зачем добавлять условия в автоэнкодер? Как это влияет на генерацию?\n",
    "2. Какие слои помогают восстанавливать изображение к исходному размеру в декодировщике? (*) Какие есть аналоги этого слоя? В чем их различие? Какие у каждого слоя плюсы и минусы?\n",
    "3. Как можно улучшить архитектуру автоэнкодера? Какие методы помогали вам при обучении? Что повлияло на сходимость? Попробуйте использовать nn.Dropout и nn.BatchNorm2d\n",
    "\n",
    "В качестве фреймворка обучения используйте Pytorch."
   ]
  },
  {
   "cell_type": "code",
   "execution_count": null,
   "metadata": {
    "id": "TjTLcl9QPVSE"
   },
   "outputs": [],
   "source": [
    "import numpy as np\n",
    "import matplotlib.pyplot as plt\n",
    "from tqdm import tqdm\n",
    "\n",
    "import torch\n",
    "import torch.nn as nn\n",
    "import torchvision\n",
    "from torch.utils.data import DataLoader\n",
    "import torchvision.transforms as transforms\n",
    "\n",
    "from torchsummary import summary"
   ]
  },
  {
   "cell_type": "markdown",
   "metadata": {
    "id": "vzOq_9uMPVSF"
   },
   "source": [
    "## Dataset"
   ]
  },
  {
   "cell_type": "code",
   "execution_count": null,
   "metadata": {
    "id": "RQLu5ipCPVSF"
   },
   "outputs": [],
   "source": [
    "# Define the transformation\n",
    "transform = transforms.Compose([\n",
    "    transforms.ToTensor(),\n",
    "    transforms.Resize((64, 64)),\n",
    "])\n",
    "\n",
    "# Load the dataset\n",
    "train_dataset = torchvision.datasets.FashionMNIST(root='./data', train=True, download=True, transform=transform)"
   ]
  },
  {
   "cell_type": "code",
   "execution_count": null,
   "metadata": {
    "id": "2XXYyornPVSF"
   },
   "outputs": [],
   "source": [
    "dataloader = DataLoader(train_dataset, batch_size=8, shuffle=True)"
   ]
  },
  {
   "cell_type": "markdown",
   "metadata": {
    "id": "gcSlU-z3PVSF"
   },
   "source": [
    "## Model"
   ]
  },
  {
   "cell_type": "code",
   "execution_count": null,
   "metadata": {
    "id": "o_Tbt7MsPVSF"
   },
   "outputs": [],
   "source": [
    "class Autoencoder(nn.Module):\n",
    "    def __init__(\n",
    "        self,\n",
    "        dim_code=...,\n",
    "        condition_dim=...,\n",
    "        ):\n",
    "        super().__init__()\n",
    "\n",
    "        self.encoder = nn.Sequential(\n",
    "            # < put your code here >\n",
    "        )\n",
    "        self.decode_input = # < put your code here >\n",
    "\n",
    "        self.decoder = nn.Sequential(\n",
    "            # < put your code here >\n",
    "        )\n",
    "\n",
    "    def decode(self, x):\n",
    "        # < put your code here >\n",
    "        pass\n",
    "\n",
    "    def forward(self, x):\n",
    "        # < put your code here >\n",
    "        pass"
   ]
  },
  {
   "cell_type": "markdown",
   "metadata": {
    "id": "1bV-v8PNPVSG"
   },
   "source": [
    "## Training"
   ]
  },
  {
   "cell_type": "code",
   "execution_count": null,
   "metadata": {
    "id": "AOLo7ZXJPVSG"
   },
   "outputs": [],
   "source": [
    "def train_autoencoder(model, dataloader, criterion, optimizer, epochs, device):\n",
    "    # < put your code here >\n",
    "    pass"
   ]
  },
  {
   "cell_type": "code",
   "execution_count": null,
   "metadata": {
    "id": "GXr2DCVVPVSG"
   },
   "outputs": [],
   "source": [
    "criterion = ...\n",
    "autoencoder = ...\n",
    "optimizer = ...\n",
    "epochs = ...\n",
    "device = ..."
   ]
  },
  {
   "cell_type": "code",
   "execution_count": null,
   "metadata": {
    "id": "0lgOiFnoPVSG"
   },
   "outputs": [],
   "source": [
    "loss = train_autoencoder(\n",
    "    model=autoencoder,\n",
    "    dataloader=dataloader,\n",
    "    criterion=criterion,\n",
    "    optimizer=optimizer,\n",
    "    epochs=epochs,\n",
    "    device=device\n",
    ")\n",
    "\n",
    "plt.figure(figsize=(12, 4))\n",
    "plt.plot(loss)\n",
    "plt.show()"
   ]
  },
  {
   "cell_type": "markdown",
   "metadata": {
    "id": "HdBpUivSPVSH"
   },
   "source": [
    "## Test"
   ]
  },
  {
   "cell_type": "markdown",
   "metadata": {
    "id": "n5Ix4jcKSPqH"
   },
   "source": [
    "Напишите вспомогательную функцию вывода выхода автоэнкодера."
   ]
  }
 ],
 "metadata": {
  "colab": {
   "provenance": []
  },
  "kernelspec": {
   "display_name": "ctci",
   "language": "python",
   "name": "python3"
  },
  "language_info": {
   "codemirror_mode": {
    "name": "ipython",
    "version": 3
   },
   "file_extension": ".py",
   "mimetype": "text/x-python",
   "name": "python",
   "nbconvert_exporter": "python",
   "pygments_lexer": "ipython3",
   "version": "3.10.13"
  }
 },
 "nbformat": 4,
 "nbformat_minor": 0
}
