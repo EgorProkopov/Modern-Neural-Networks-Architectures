{
 "cells": [
  {
   "cell_type": "markdown",
   "metadata": {},
   "source": [
    "# Лабораторная работа №3"
   ]
  },
  {
   "cell_type": "markdown",
   "metadata": {},
   "source": [
    "В рамках данной лабораторной работы необходимо реализовать WGAN и его модификацию WGAN-GP и обучить его на датасете [пицц](https://www.kaggle.com/datasets/ounimed/pizza-dataset-ready-to-use-with-yolo). Основа генератора и дискриминатора должна быть сверточная."
   ]
  },
  {
   "cell_type": "markdown",
   "metadata": {},
   "source": [
    "Сначала реализуйте WGAN. Не забудьте использовать ограничение весов для дискриминатора. Сделайте вывод о сходимости и качестве генерации.\n",
    "\n",
    "Следом реализуйте WGAN-GP. Чем он отличается от WGAN? Какие проблемы решает? Сделайте вывод о сходимости и качестве генерации.\n",
    "\n",
    "Как вы можете интерпретировать график лосс-функций генератора и дискриминатора?"
   ]
  },
  {
   "cell_type": "markdown",
   "metadata": {},
   "source": [
    "## Полезные замечания\n",
    "0. Используйте платформу kaggle. Для каждого аккаунта там есть бесплатно в неделю 30 гпу часов.\n",
    "1. Бывает очень полезно посмотреть, как именно изменяется тензор при проходе через генератор. Для этого есть keras-подобный вывод через библиотеку torchsummary.\n",
    "```python\n",
    "model = YourModel().to(device)\n",
    "input_shape = (3, 64, 64)\n",
    "summary(model, input_shape)\n",
    "```\n",
    "2. Стоит ли использовать BatchNorm2d? Какая альтернатива есть? Почему она лучше?"
   ]
  },
  {
   "cell_type": "markdown",
   "metadata": {},
   "source": [
    "# Импорт библиотек"
   ]
  },
  {
   "cell_type": "code",
   "execution_count": null,
   "metadata": {},
   "outputs": [],
   "source": [
    "import numpy as np\n",
    "import matplotlib.pyplot as plt\n",
    "from PIL import Image\n",
    "from tqdm import tqdm\n",
    "\n",
    "import torch\n",
    "import torch.nn as nn\n",
    "import torchvision\n",
    "from torch.nn import functional as func\n",
    "from torch.utils.data import Dataset, DataLoader\n",
    "import torchvision.transforms as transforms\n",
    "\n",
    "from torchsummary import summary"
   ]
  },
  {
   "cell_type": "code",
   "execution_count": null,
   "metadata": {},
   "outputs": [],
   "source": [
    "torch.manual_seed(666)"
   ]
  },
  {
   "cell_type": "markdown",
   "metadata": {},
   "source": [
    "# Датасет"
   ]
  },
  {
   "cell_type": "code",
   "execution_count": null,
   "metadata": {},
   "outputs": [],
   "source": [
    "class PizzaDataset(Dataset):\n",
    "    def __init__(self, data_dir, transform=None):\n",
    "        pass\n",
    "\n",
    "    def __getitem__(self, idx):\n",
    "        pass\n",
    "\n",
    "    def __len__(self):\n",
    "        pass\n"
   ]
  },
  {
   "cell_type": "code",
   "execution_count": null,
   "metadata": {},
   "outputs": [],
   "source": [
    "transform = transforms.Compose([\n",
    "    transforms.ToTensor(),\n",
    "    transforms.Resize((64, 64)),\n",
    "    transforms.Normalize([0.5, 0.5, 0.5], [0.5, 0.5, 0.5])\n",
    "])\n",
    "\n",
    "data_dir = ''\n",
    "pizza_dataset = PizzaDataset(data_dir, transform=transform)\n",
    "pizza_loader = DataLoader(pizza_dataset, batch_size=16, shuffle=True)"
   ]
  },
  {
   "cell_type": "markdown",
   "metadata": {},
   "source": [
    "# Модели"
   ]
  },
  {
   "cell_type": "code",
   "execution_count": null,
   "metadata": {},
   "outputs": [],
   "source": [
    "class Generator(nn.Module):\n",
    "    def __init__(self, nz):\n",
    "        pass\n",
    "    def forward(self, z):\n",
    "        pass"
   ]
  },
  {
   "cell_type": "code",
   "execution_count": null,
   "metadata": {},
   "outputs": [],
   "source": [
    "class Discriminator(nn.Module):\n",
    "    def __init__(self):\n",
    "        pass\n",
    "\n",
    "    def forward(self, x):\n",
    "        pass"
   ]
  },
  {
   "cell_type": "markdown",
   "metadata": {},
   "source": [
    "# Функции обучения"
   ]
  },
  {
   "cell_type": "markdown",
   "metadata": {},
   "source": [
    "Реализуйте обучение GAN. Какие должны быть значения у векторов $y_{true}$ и $y_{fake}$?"
   ]
  },
  {
   "cell_type": "code",
   "execution_count": 1,
   "metadata": {},
   "outputs": [],
   "source": [
    "def calculate_gradient_penalty():\n",
    "    pass"
   ]
  },
  {
   "cell_type": "code",
   "execution_count": null,
   "metadata": {},
   "outputs": [],
   "source": [
    "class WassersteinLoss:\n",
    "    pass"
   ]
  },
  {
   "cell_type": "code",
   "execution_count": null,
   "metadata": {},
   "outputs": [],
   "source": [
    "def train_gan():\n",
    "    pass"
   ]
  },
  {
   "cell_type": "code",
   "execution_count": null,
   "metadata": {},
   "outputs": [],
   "source": [
    "latent_size = ...\n",
    "epochs = ... \n",
    "device = ...\n",
    "\n",
    "gen = Generator(latent_size).to(device)\n",
    "disc = Discriminator().to(device)\n",
    "\n",
    "# Loss function and optimizers\n",
    "disc_optim = ...\n",
    "gen_optim = ..."
   ]
  },
  {
   "cell_type": "code",
   "execution_count": null,
   "metadata": {},
   "outputs": [],
   "source": [
    "g_loss, d_loss, real_score, fake_score = train_gan(\n",
    "    gen, loss, gen_optim,\n",
    "    disc, loss, disc_optim,\n",
    "    pizza_loader, device, epochs=epochs, latent_size=latent_size,\n",
    "    )"
   ]
  },
  {
   "cell_type": "code",
   "execution_count": null,
   "metadata": {},
   "outputs": [],
   "source": [
    "plt.plot(g_loss, label = 'gen loss')\n",
    "plt.plot(d_loss, label = 'disc loss')\n",
    "plt.legend()\n",
    "plt.show()"
   ]
  },
  {
   "cell_type": "code",
   "execution_count": null,
   "metadata": {},
   "outputs": [],
   "source": [
    "plt.plot(real_score, label = 'real score')\n",
    "plt.plot(fake_score, label = 'fake score')\n",
    "plt.legend()\n",
    "plt.show()"
   ]
  },
  {
   "cell_type": "markdown",
   "metadata": {},
   "source": [
    "# Визуализация"
   ]
  },
  {
   "cell_type": "code",
   "execution_count": null,
   "metadata": {},
   "outputs": [],
   "source": [
    "# helper function for viewing a list of passed in sample images\n",
    "def view_samples(samples):\n",
    "    fig, axes = plt.subplots(figsize=(7,7), nrows=4, ncols=4, sharey=True, sharex=True)\n",
    "    for ax, img in zip(axes.flatten(), samples):\n",
    "        img = img.permute(2, 1, 0).detach().cpu()\n",
    "        ax.xaxis.set_visible(False)\n",
    "        ax.yaxis.set_visible(False)\n",
    "        im = ax.imshow(img.reshape((64,64,3)))"
   ]
  },
  {
   "cell_type": "code",
   "execution_count": null,
   "metadata": {},
   "outputs": [],
   "source": [
    "sample_size = 16\n",
    "fixed_z = torch.randn(sample_size, latent_size, 1, 1, device=device)\n",
    "\n",
    "with torch.no_grad():\n",
    "\n",
    "    samples = gen(fixed_z)\n",
    "    view_samples(samples / 2 + 0.5)"
   ]
  }
 ],
 "metadata": {
  "kernelspec": {
   "display_name": "itmo_dl",
   "language": "python",
   "name": "python3"
  },
  "language_info": {
   "codemirror_mode": {
    "name": "ipython",
    "version": 3
   },
   "file_extension": ".py",
   "mimetype": "text/x-python",
   "name": "python",
   "nbconvert_exporter": "python",
   "pygments_lexer": "ipython3",
   "version": "3.10.13"
  }
 },
 "nbformat": 4,
 "nbformat_minor": 2
}
