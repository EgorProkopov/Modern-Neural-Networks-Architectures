{
 "cells": [
  {
   "cell_type": "code",
   "execution_count": null,
   "metadata": {
    "id": "sx4Po1hqNRPQ"
   },
   "outputs": [],
   "source": [
    "import torch\n",
    "from torch import nn\n",
    "from torch.nn import functional as F\n",
    "from tqdm import tqdm"
   ]
  },
  {
   "cell_type": "markdown",
   "metadata": {
    "id": "F0737dniNUO-"
   },
   "source": [
    "# Семинар 8. Диффузионные сети на практике"
   ]
  },
  {
   "cell_type": "markdown",
   "metadata": {
    "id": "65d55NldNc2x"
   },
   "source": [
    "В этом семинаре разберем (предоложительно) Stable diffusion! библиотеку diffusers, DiT и узнаем про трекинг в ClearML?"
   ]
  },
  {
   "cell_type": "markdown",
   "metadata": {
    "id": "9_SLs-VOPptI"
   },
   "source": [
    "## SD from scratch"
   ]
  },
  {
   "cell_type": "markdown",
   "metadata": {
    "id": "wBoxFf-pPt6D"
   },
   "source": [
    "Построим сначала SD с нуля. У нас уже все для этого есть - мы знаем процесс диффузии, только вместо того чтобы восстанавливать самое изображение из шума. Эта часть блокнота ознакомительная и нацелена на то чтобы показать как работают составные части сд"
   ]
  },
  {
   "cell_type": "markdown",
   "metadata": {
    "id": "hnt7To2LvP0V"
   },
   "source": [
    "### VQ-VAE\n"
   ]
  },
  {
   "cell_type": "markdown",
   "metadata": {
    "id": "jdyw8qXfvStG"
   },
   "source": [
    "В обучении LDM VQ-VAE играет роль модели снижения размерности. Процесс диффузии будет применяться к сжатому изображению.\n",
    "\n"
   ]
  },
  {
   "cell_type": "code",
   "execution_count": null,
   "metadata": {
    "id": "YmUlmvjkscbm"
   },
   "outputs": [],
   "source": [
    "class VectorQuantizer(nn.Module):\n",
    "    def __init__(self, num_embeddings=10, embedding_dim=128):\n",
    "        super(VectorQuantizer, self).__init__()\n",
    "\n",
    "        self._embedding_dim = embedding_dim\n",
    "        self._num_embeddings = num_embeddings\n",
    "\n",
    "        self._embedding = nn.Embedding(self._num_embeddings, self._embedding_dim)\n",
    "        self._embedding.weight.data.uniform_(-1/self._num_embeddings, 1/self._num_embeddings)\n",
    "\n",
    "    def forward(self, inputs):\n",
    "        inputs = inputs.permute(0, 2, 3, 1).contiguous()\n",
    "        input_shape = inputs.shape\n",
    "\n",
    "        flat_input = inputs.view(-1, self._embedding_dim)\n",
    "\n",
    "        distances = (torch.sum(flat_input**2, dim=1, keepdim=True)\n",
    "                    + torch.sum(self._embedding.weight**2, dim=1)\n",
    "                    - 2 * torch.matmul(flat_input, self._embedding.weight.t()))\n",
    "\n",
    "        encoding_indices = torch.argmin(distances, dim=1).unsqueeze(1)\n",
    "        encodings = torch.zeros(encoding_indices.shape[0], self._num_embeddings, device=inputs.device)\n",
    "        encodings.scatter_(1, encoding_indices, 1)\n",
    "\n",
    "        quantized = torch.matmul(encodings, self._embedding.weight).view(input_shape)\n",
    "\n",
    "        quantized = inputs + (quantized - inputs).detach()\n",
    "        quantized = quantized.permute(0, 3, 1, 2).contiguous()\n",
    "\n",
    "        return quantized"
   ]
  },
  {
   "cell_type": "code",
   "execution_count": null,
   "metadata": {
    "id": "DFZC7m2zNcF9"
   },
   "outputs": [],
   "source": [
    "class Encoder(nn.Module):\n",
    "    def __init__(self, ch=3, hidden_dim=128):\n",
    "        super().__init__()\n",
    "\n",
    "        self.enc = nn.Sequential(\n",
    "            # b c 256 256\n",
    "            nn.Conv2d(ch, hidden_dim, kernel_size=3, stride=2, padding=1),\n",
    "            nn.LeakyReLU(),\n",
    "            # b c 128 128\n",
    "            nn.Conv2d(hidden_dim, hidden_dim*2, kernel_size=3, stride=2, padding=1),\n",
    "            nn.LeakyReLU(),\n",
    "            # b c 64 64\n",
    "            nn.Conv2d(hidden_dim*2, ch, kernel_size=1, stride=1, padding=0),\n",
    "            # b c 64 64\n",
    "            nn.LeakyReLU(),\n",
    "        )\n",
    "\n",
    "    def forward(self, x):\n",
    "        return self.enc(x)\n",
    "\n",
    "\n",
    "class Decoder(nn.Module):\n",
    "    def __init__(self, ch=3, hidden_dim=128):\n",
    "        super().__init__()\n",
    "        self.dec = nn.Sequential(\n",
    "            # b c 64 64\n",
    "            nn.Conv2d(ch, hidden_dim*2, kernel_size=3, stride=1, padding=1),\n",
    "            nn.LeakyReLU(),\n",
    "            # b c 64 64\n",
    "            nn.ConvTranspose2d(hidden_dim*2, hidden_dim, kernel_size=4, stride=2, padding=1),\n",
    "            nn.LeakyReLU(),\n",
    "            # b c 128 128\n",
    "            nn.ConvTranspose2d(hidden_dim, hidden_dim // 2, kernel_size=4, stride=2, padding=1),\n",
    "            nn.LeakyReLU(),\n",
    "            # b c 128 128\n",
    "            nn.ConvTranspose2d(hidden_dim // 2, ch, kernel_size=3, padding=1),\n",
    "            nn.LeakyReLU(),\n",
    "            nn.Sigmoid()\n",
    "        )\n",
    "\n",
    "    def forward(self, x):\n",
    "        return self.dec(x)"
   ]
  },
  {
   "cell_type": "code",
   "execution_count": null,
   "metadata": {
    "colab": {
     "base_uri": "https://localhost:8080/"
    },
    "id": "5haqKJv_VH0L",
    "outputId": "f4df1e5c-92dd-4503-e4ac-79ed40c069ab"
   },
   "outputs": [
    {
     "name": "stdout",
     "output_type": "stream",
     "text": [
      "torch.Size([1, 3, 256, 256])\n"
     ]
    }
   ],
   "source": [
    "inp = torch.randn(1, 3, 64, 64)\n",
    "\n",
    "decoder = Decoder()\n",
    "out = decoder(inp)\n",
    "print(out.shape)"
   ]
  },
  {
   "cell_type": "code",
   "execution_count": null,
   "metadata": {
    "id": "NJ_yHnVLs07T"
   },
   "outputs": [],
   "source": [
    "class VQModel(nn.Module):\n",
    "    def __init__(self, ch=3, n_embed=8192, emb_dim=3):\n",
    "      super().__init__()\n",
    "\n",
    "      self.enc = Encoder(ch)\n",
    "      self.dec = Decoder(ch)\n",
    "\n",
    "      self.quant = VectorQuantizer(n_embed, emb_dim)\n",
    "\n",
    "      # свертки для конвертации размерностей выходов тензоров для квантизации и после нее\n",
    "      self.quant_conv = nn.Conv2d(ch, emb_dim, 1)\n",
    "      self.post_quant_conv = nn.Conv2d(emb_dim, ch, 1)\n",
    "\n",
    "    def encode(self, x):\n",
    "      out = self.enc(x)\n",
    "      out = self.quant_conv(out)\n",
    "      return self.quant(out)\n",
    "\n",
    "    def decode(self, x):\n",
    "      out = self.post_quant_conv(x)\n",
    "      return self.dec(out)\n",
    "\n",
    "    def decode_code(self, code):\n",
    "      out = self.quant._embedding(code)\n",
    "      return self.decode(out)\n",
    "\n",
    "    def forward(self, x):\n",
    "      out = self.encode(x)\n",
    "      return self.decode(out)"
   ]
  },
  {
   "cell_type": "markdown",
   "metadata": {
    "id": "3H4BEJmRvq-U"
   },
   "source": [
    "### UNet"
   ]
  },
  {
   "cell_type": "markdown",
   "metadata": {
    "id": "ArtgHf6Svtwr"
   },
   "source": [
    "UNet, как и в прошлый раз, будет отвечать за выучивание шума на каждом шаге диффузии. Авторы предлагают модифицировать архитектуру так, чтобы добавлять в каждый блок внимания информацию из других модальностей. Модифицируем наше внимание до CrossAttention."
   ]
  },
  {
   "cell_type": "code",
   "execution_count": null,
   "metadata": {
    "id": "jG1bC2We4TrL"
   },
   "outputs": [],
   "source": [
    "class ScaledDotProductAttention(nn.Module):\n",
    "    # если не будет context, тогда будет простой attention\n",
    "    def __init__(\n",
    "        self,\n",
    "        embed_dim: int = 768,\n",
    "        context_dim: int = None,\n",
    "        qkv_dim: int = 64,\n",
    "        dropout_rate: float = 0.1,\n",
    "    ):\n",
    "        super().__init__()\n",
    "\n",
    "        if context_dim is None:\n",
    "           context_dim = embed_dim\n",
    "\n",
    "        self.scale = 1 / (qkv_dim ** 0.5)\n",
    "        self.q_linear = nn.Linear(embed_dim, qkv_dim)\n",
    "        self.k_linear = nn.Linear(context_dim, qkv_dim)\n",
    "        self.v_linear = nn.Linear(context_dim, qkv_dim)\n",
    "        self.dropout = nn.Dropout(dropout_rate)\n",
    "\n",
    "    def forward(self, x, context=None):\n",
    "        batch_size, tokens, _ = x.shape\n",
    "\n",
    "        if context is None:\n",
    "            context = x\n",
    "\n",
    "        if context.dim() == 2:  # [batch_size, context_dim]\n",
    "            context = context.unsqueeze(1).expand(-1, tokens, -1)  # [batch_size, tokens, context_dim]\n",
    "\n",
    "\n",
    "        Q = self.q_linear(x)\n",
    "        K = self.k_linear(context)\n",
    "        V = self.v_linear(context)\n",
    "\n",
    "        attention_scores = torch.matmul(Q, K.mT) * self.scale\n",
    "        attention_weights = F.softmax(attention_scores, dim=-1)\n",
    "        attention_weights = self.dropout(attention_weights)\n",
    "\n",
    "        return attention_weights @ V"
   ]
  },
  {
   "cell_type": "code",
   "execution_count": null,
   "metadata": {
    "id": "bNPDGDHE4x23"
   },
   "outputs": [],
   "source": [
    "class MultiHeadAttention(torch.nn.Module):\n",
    "    def __init__(\n",
    "        self,\n",
    "        n_heads: int = 12,\n",
    "        embed_dim: int = 768,\n",
    "        context_dim: int = None,\n",
    "        qkv_dim: int = 64,\n",
    "        dropout_rate: float = 0.1,\n",
    "    ):\n",
    "        super().__init__()\n",
    "\n",
    "        self.attns = torch.nn.ModuleList([\n",
    "            ScaledDotProductAttention(\n",
    "                embed_dim=embed_dim,\n",
    "                context_dim=context_dim,\n",
    "                qkv_dim=qkv_dim,\n",
    "                dropout_rate=dropout_rate\n",
    "                )\n",
    "            for _ in range(n_heads)\n",
    "        ])\n",
    "\n",
    "        self.projection = torch.nn.Linear(n_heads * qkv_dim, embed_dim)\n",
    "\n",
    "    def forward(self, x, context):\n",
    "        heads_output = [attn(x, context) for attn in self.attns]\n",
    "        concatenated = torch.cat(heads_output, dim=-1)\n",
    "        output = self.projection(concatenated)\n",
    "        return output"
   ]
  },
  {
   "cell_type": "code",
   "execution_count": null,
   "metadata": {
    "id": "NJBNTg1K9rDp"
   },
   "outputs": [],
   "source": [
    "class MLP(torch.nn.Module):\n",
    "    def __init__(\n",
    "        self,\n",
    "        embed_dim: int = 768,\n",
    "        mlp_hidden_size: int = 3072,\n",
    "        dropout_rate: float = 0.1,\n",
    "    ):\n",
    "        super().__init__()\n",
    "\n",
    "        # обычный многослойный перцептрон, но с ориентиром на статью\n",
    "        # не забываем про GELU\n",
    "        self.mlp = nn.Sequential(\n",
    "            nn.Linear(embed_dim, mlp_hidden_size),\n",
    "            nn.GELU(),\n",
    "            nn.Dropout(dropout_rate),\n",
    "            nn.Linear(mlp_hidden_size, embed_dim),\n",
    "            nn.Dropout(dropout_rate),\n",
    "        )\n",
    "\n",
    "    def forward(self, tensor):\n",
    "        return self.mlp(tensor)"
   ]
  },
  {
   "cell_type": "code",
   "execution_count": null,
   "metadata": {
    "id": "cVQbn0lJvtB7"
   },
   "outputs": [],
   "source": [
    "class TransformerBlock(nn.Module):\n",
    "    def __init__(\n",
    "        self,\n",
    "        n_heads,\n",
    "        embed_dim,\n",
    "        context_dim,\n",
    "        qkv_dim,\n",
    "        attn_drop,\n",
    "        mlp_hidden_size,\n",
    "        mlp_drop,\n",
    "    ):\n",
    "        super().__init__()\n",
    "        self.mha = MultiHeadAttention(\n",
    "            n_heads=n_heads,\n",
    "            embed_dim=embed_dim,\n",
    "            context_dim=context_dim,\n",
    "            qkv_dim=qkv_dim,\n",
    "            dropout_rate=attn_drop,\n",
    "        )\n",
    "\n",
    "        self.ln = nn.LayerNorm(embed_dim)\n",
    "\n",
    "\n",
    "        self.mlp = MLP(embed_dim, mlp_hidden_size, mlp_drop)\n",
    "\n",
    "    def forward(self, x, context=None):\n",
    "        B, C, H, W = x.shape\n",
    "        x = x.flatten(2).transpose(1, 2)\n",
    "\n",
    "        attn = self.ln(self.mha(x, context)) + x\n",
    "        output = self.mlp(attn) + attn\n",
    "        output = output.transpose(1, 2).view(B, -1, H, W)\n",
    "        return output\n"
   ]
  },
  {
   "cell_type": "code",
   "execution_count": null,
   "metadata": {
    "id": "q2ysuNHIic1m"
   },
   "outputs": [],
   "source": [
    "# базовый блок Conv + Norm + Act + Conv + Norm\n",
    "class DoubleConv(nn.Module):\n",
    "    def __init__(self, in_channels, out_channels, mid_channels=None, residual=False, num_groups=8):\n",
    "        super().__init__()\n",
    "        self.residual = residual\n",
    "        if not mid_channels:\n",
    "            mid_channels = out_channels\n",
    "        self.double_conv = nn.Sequential(\n",
    "            nn.Conv2d(in_channels, mid_channels, kernel_size=3, padding=1, bias=False),\n",
    "            nn.GroupNorm(num_groups=num_groups, num_channels=mid_channels),\n",
    "            nn.GELU(),\n",
    "            nn.Conv2d(mid_channels, out_channels, kernel_size=3, padding=1, bias=False),\n",
    "            nn.GroupNorm(num_groups=num_groups, num_channels=out_channels),\n",
    "        )\n",
    "\n",
    "    def forward(self, x):\n",
    "        if self.residual:\n",
    "            return x + F.gelu(self.double_conv(x))\n",
    "        else:\n",
    "            return self.double_conv(x)\n",
    "\n",
    "# блок снижения размерности карты признаков\n",
    "class Down(nn.Module):\n",
    "    def __init__(self, in_channels, out_channels, emb_dim=256, num_groups=8):\n",
    "        super().__init__()\n",
    "        self.maxpool_conv = nn.Sequential(\n",
    "            nn.MaxPool2d(2),\n",
    "            DoubleConv(in_channels, in_channels, residual=True, num_groups=num_groups),\n",
    "            DoubleConv(in_channels, out_channels, num_groups=num_groups),\n",
    "        )\n",
    "\n",
    "        self.emb_layer = nn.Sequential(\n",
    "            nn.SiLU(),\n",
    "            nn.Linear(\n",
    "                emb_dim,\n",
    "                out_channels\n",
    "            ),\n",
    "        )\n",
    "\n",
    "    def forward(self, x, t):\n",
    "        x = self.maxpool_conv(x)\n",
    "        emb = self.emb_layer(t).unsqueeze(-1).unsqueeze(-1)\n",
    "        return x + emb\n",
    "\n",
    "# блок повышения размерности карты признаков\n",
    "class Up(nn.Module):\n",
    "    def __init__(self, in_channels, out_channels, emb_dim=256, num_groups=8):\n",
    "        super().__init__()\n",
    "\n",
    "        self.up = nn.Upsample(scale_factor=2, mode=\"bilinear\", align_corners=True)\n",
    "        self.conv = nn.Sequential(\n",
    "            DoubleConv(in_channels, in_channels, residual=True, num_groups=num_groups),\n",
    "            DoubleConv(in_channels, out_channels, in_channels // 2, num_groups=num_groups),\n",
    "        )\n",
    "\n",
    "        self.emb_layer = nn.Sequential(\n",
    "            nn.SiLU(),\n",
    "            nn.Linear(\n",
    "                emb_dim,\n",
    "                out_channels\n",
    "            ),\n",
    "        )\n",
    "\n",
    "    def forward(self, x, skip_x, t):\n",
    "        x = self.up(x)\n",
    "        if x.shape[-2:] != skip_x.shape[-2:]:\n",
    "            x = F.interpolate(x, size=skip_x.shape[-2:], mode=\"bilinear\", align_corners=True)\n",
    "        x = torch.cat([skip_x, x], dim=1)\n",
    "        x = self.conv(x)\n",
    "        emb = self.emb_layer(t).unsqueeze(-1).unsqueeze(-1)\n",
    "        return x + emb"
   ]
  },
  {
   "cell_type": "code",
   "execution_count": null,
   "metadata": {
    "id": "D9BZd-6viepb"
   },
   "outputs": [],
   "source": [
    "class UNet(nn.Module):\n",
    "    def __init__(self, c_in=3, c_out=3, time_dim=256, context_dim=256, device=\"cpu\"):\n",
    "        super().__init__()\n",
    "        self.device = device\n",
    "        self.time_dim = time_dim\n",
    "\n",
    "        self.inc = DoubleConv(c_in, 64)\n",
    "\n",
    "        self.down1 = Down(64, 128)\n",
    "        self.ca1 = TransformerBlock(\n",
    "            n_heads=4, embed_dim=128, context_dim=context_dim, qkv_dim=32,\n",
    "            attn_drop=0.1, mlp_hidden_size=512, mlp_drop=0.1\n",
    "        )\n",
    "        self.down2 = Down(128, 256)\n",
    "        self.ca2 = TransformerBlock(\n",
    "            n_heads=8, embed_dim=256, context_dim=context_dim, qkv_dim=32,\n",
    "            attn_drop=0.1, mlp_hidden_size=1024, mlp_drop=0.1\n",
    "        )\n",
    "\n",
    "        self.bot1 = DoubleConv(256, 512)\n",
    "        self.bot2 = DoubleConv(512, 512)\n",
    "        self.bot3 = DoubleConv(512, 256)\n",
    "\n",
    "        self.up1 = Up(512, 128)\n",
    "        self.ca3 = TransformerBlock(\n",
    "            n_heads=4, embed_dim=128, context_dim=context_dim, qkv_dim=32,\n",
    "            attn_drop=0.1, mlp_hidden_size=512, mlp_drop=0.1\n",
    "        )\n",
    "        self.up2 = Up(256, 64)\n",
    "        self.ca4 = TransformerBlock(\n",
    "            n_heads=2, embed_dim=64, context_dim=context_dim, qkv_dim=32,\n",
    "            attn_drop=0.1, mlp_hidden_size=256, mlp_drop=0.1\n",
    "        )\n",
    "        self.up3 = Up(128, 64)\n",
    "\n",
    "        self.outc = nn.Conv2d(64, c_out, kernel_size=1)\n",
    "\n",
    "    def pos_encoding(self, t, channels):\n",
    "        assert t.dim() == 2, f\"Expected shape (batch_size, 1), got {t.shape}\"\n",
    "        device = t.device\n",
    "        inv_freq = 1.0 / (\n",
    "            10000 ** (torch.arange(0, channels, 2, device=device).float() / channels)\n",
    "        )\n",
    "        pos_enc_a = torch.sin(t.repeat(1, channels // 2) * inv_freq)\n",
    "        pos_enc_b = torch.cos(t.repeat(1, channels // 2) * inv_freq)\n",
    "        pos_enc = torch.cat([pos_enc_a, pos_enc_b], dim=-1)\n",
    "        return pos_enc\n",
    "\n",
    "    def forward(self, x, t, t_theta):\n",
    "        t = t.unsqueeze(-1).type(torch.float)\n",
    "        t = self.pos_encoding(t, self.time_dim)\n",
    "\n",
    "        x1 = self.inc(x)\n",
    "        x2 = self.down1(x1, t)\n",
    "        x2 = self.ca1(x2, t_theta)\n",
    "        x3 = self.down2(x2, t)\n",
    "        x3 = self.ca2(x3, t_theta)\n",
    "\n",
    "        xb = self.bot1(x3)\n",
    "        xb = self.bot2(xb)\n",
    "        xb = self.bot3(xb)\n",
    "\n",
    "        x = self.up1(xb, x3, t)\n",
    "        x = self.ca3(x, t_theta)\n",
    "        x = self.up2(x, x2, t)\n",
    "        x = self.ca4(x, t_theta)\n",
    "        x = self.up3(x, x1, t)\n",
    "\n",
    "        output = self.outc(x)\n",
    "        return output"
   ]
  },
  {
   "cell_type": "code",
   "execution_count": null,
   "metadata": {
    "colab": {
     "base_uri": "https://localhost:8080/"
    },
    "id": "_mqBr57U6JLe",
    "outputId": "961a9816-b95a-43fd-efba-58b8c619efb4"
   },
   "outputs": [
    {
     "name": "stdout",
     "output_type": "stream",
     "text": [
      "Output shape = torch.Size([1, 3, 64, 64])\n"
     ]
    }
   ],
   "source": [
    "model = UNet().cuda()\n",
    "\n",
    "B = 1\n",
    "x = torch.randn(B, 3, 64, 64).cuda()   # image\n",
    "t = torch.randn(B).cuda()           # time scalar\n",
    "t_theta = torch.randn(B, 256).cuda()         # context embedding\n",
    "\n",
    "out = model(x, t, t_theta)\n",
    "print(\"Output shape =\", out.shape)  # should be [B, c_out, 64, 64]\n"
   ]
  },
  {
   "cell_type": "markdown",
   "metadata": {
    "id": "YlJ_7FDqwFQg"
   },
   "source": [
    "### Кодировщик модальностей"
   ]
  },
  {
   "cell_type": "markdown",
   "metadata": {
    "id": "qFlOUhUdwIoP"
   },
   "source": [
    "Кодировщиком молальности может выступать что угодно, в зависимости от модальности. Например, это может быть берт как кодировщик текста или клип как кодировщик изображений или любой другой кодировщик, который вы выберете."
   ]
  },
  {
   "cell_type": "code",
   "execution_count": null,
   "metadata": {
    "id": "7l6979DfwH_-"
   },
   "outputs": [],
   "source": [
    "from transformers import BertTokenizerFast, BertModel\n",
    "\n",
    "class BERTTokenizer(nn.Module):\n",
    "    \"\"\"Uses a pretrained BERT tokenizer and model for embeddings.\"\"\"\n",
    "    def __init__(self, device=\"cpu\", max_length=77):\n",
    "        super().__init__()\n",
    "        # Load BERT tokenizer and model\n",
    "        self.tokenizer = BertTokenizerFast.from_pretrained(\"bert-base-uncased\")\n",
    "        self.bert_model = BertModel.from_pretrained(\"bert-base-uncased\").to(device)\n",
    "\n",
    "        self.device = device\n",
    "        self.max_length = max_length\n",
    "        self.context_dim = self.bert_model.config.hidden_size  # 768 for bert-base-uncased\n",
    "\n",
    "    def forward(self, text):\n",
    "        \"\"\"\n",
    "        Tokenizes the text and computes BERT embeddings.\n",
    "        :param text: List of strings\n",
    "        :return: Embeddings [B, max_length, context_dim]\n",
    "        \"\"\"\n",
    "        # Tokenize text input\n",
    "        batch_encoding = self.tokenizer(\n",
    "            text,\n",
    "            truncation=True,\n",
    "            max_length=self.max_length,\n",
    "            padding=\"max_length\",\n",
    "            return_tensors=\"pt\",\n",
    "        ).to(self.device)\n",
    "\n",
    "        # Get embeddings from BERT\n",
    "        with torch.no_grad():\n",
    "            outputs = self.bert_model(**batch_encoding)\n",
    "\n",
    "        # Use the last hidden state as embeddings\n",
    "        embeddings = outputs.last_hidden_state  # Shape: [B, max_length, context_dim]\n",
    "        return embeddings\n",
    "\n",
    "    def encode(self, text):\n",
    "        \"\"\"\n",
    "        Compatibility function for downstream use. Returns BERT embeddings.\n",
    "        \"\"\"\n",
    "        return self(text)\n",
    "\n",
    "    def decode(self, tokens):\n",
    "        \"\"\"\n",
    "        Decodes tokens back to text.\n",
    "        \"\"\"\n",
    "        return self.tokenizer.batch_decode(tokens, skip_special_tokens=True)\n"
   ]
  },
  {
   "cell_type": "code",
   "execution_count": null,
   "metadata": {
    "colab": {
     "base_uri": "https://localhost:8080/"
    },
    "id": "Iy8BJrMxN32M",
    "outputId": "4d3e6ca7-0e5a-4079-c98c-cbdf8ec8cd46"
   },
   "outputs": [
    {
     "name": "stdout",
     "output_type": "stream",
     "text": [
      "Output shape: torch.Size([1, 3, 64, 64])\n"
     ]
    }
   ],
   "source": [
    "# Initialize tokenizer and model\n",
    "bert_tokenizer = BERTTokenizer()\n",
    "unet_model = UNet(context_dim=bert_tokenizer.context_dim)\n",
    "\n",
    "# Example inputs\n",
    "text_input = [\"This is an example sentence for generating embeddings.\"]\n",
    "image_input = torch.randn(1, 3, 64, 64)\n",
    "time_input = torch.randn(1)\n",
    "\n",
    "# Get embeddings from BERT\n",
    "context_embeddings = bert_tokenizer(text_input)  # [B, max_length, context_dim]\n",
    "\n",
    "# Pass everything into U-Net\n",
    "output = unet_model(image_input, time_input, context_embeddings)\n",
    "print(\"Output shape:\", output.shape)\n"
   ]
  },
  {
   "cell_type": "markdown",
   "metadata": {
    "id": "9EPN7tHRQ_5d"
   },
   "source": [
    "### Diffusion"
   ]
  },
  {
   "cell_type": "code",
   "execution_count": null,
   "metadata": {
    "id": "zBqGB28ARBtY"
   },
   "outputs": [],
   "source": [
    "class Diffusion:\n",
    "    def __init__(\n",
    "            self,\n",
    "            noise_steps=1000,   # количество шагов зашумления\n",
    "            beta_start=1e-4,    # начальное значение параметра beta\n",
    "            beta_end=0.02,      # конечное значение параметра beta\n",
    "            img_size=256,       # размер изображения\n",
    "            device=\"cpu\",\n",
    "            ):\n",
    "        self.noise_steps = noise_steps\n",
    "        self.beta_start = beta_start\n",
    "        self.beta_end = beta_end\n",
    "        self.img_size = img_size\n",
    "        self.device = device\n",
    "\n",
    "        # создадим массив параметров beta\n",
    "        self.beta = self.prepare_noise_schedule().to(device)\n",
    "        # вычислим параметр alpha\n",
    "        self.alpha = 1. - self.beta\n",
    "        # посчитаем массив alpha_hat\n",
    "        self.alpha_hat = torch.cumprod(self.alpha, dim=0)\n",
    "\n",
    "    def prepare_noise_schedule(self):\n",
    "        return torch.linspace(self.beta_start, self.beta_end, self.noise_steps)\n",
    "\n",
    "    def noise_images(self, x, t):\n",
    "        # зашуим изображения\n",
    "        # доп. размерности указыванием для согласования с размерностями х\n",
    "        sqrt_alpha_hat = torch.sqrt(self.alpha_hat[t])[:, None, None, None]\n",
    "        sqrt_one_minus_alpha_hat = torch.sqrt(1 - self.alpha_hat[t])[:, None, None, None]\n",
    "        epsilon = torch.randn_like(x)\n",
    "        return sqrt_alpha_hat * x + sqrt_one_minus_alpha_hat * epsilon, epsilon\n",
    "\n",
    "    def sample_timesteps(self, n):\n",
    "        # инициализируем шаги зашумления как случайный вектор\n",
    "        return torch.randint(low=1, high=self.noise_steps, size=(n,))\n",
    "\n",
    "    def sample(self, model, x, theta):\n",
    "        model.eval()\n",
    "        n = x.size(0)\n",
    "        with torch.no_grad():\n",
    "            for i in tqdm(reversed(range(1, self.noise_steps)), position=0):\n",
    "                t = (torch.ones(n) * i).long().to(self.device)\n",
    "                predicted_noise = model(x, t, theta)\n",
    "                alpha = self.alpha[t][:, None, None, None]\n",
    "                alpha_hat = self.alpha_hat[t][:, None, None, None]\n",
    "                beta = self.beta[t][:, None, None, None]\n",
    "                if i > 1:\n",
    "                    # если i != 0, тогда epsilon будет случайным вектором\n",
    "                    noise = torch.randn_like(x)\n",
    "                else:\n",
    "                    # если i = 0, то есть мы уже пришли к нужному изображению, тогда не будем к нему добавлять epsilon\n",
    "                    noise = torch.zeros_like(x)\n",
    "\n",
    "                # вычисляем наше изображение по формуле\n",
    "                x = 1 / torch.sqrt(alpha) * (x - ((1 - alpha) / (torch.sqrt(1 - alpha_hat))) * predicted_noise) + torch.sqrt(beta) * noise\n",
    "        model.train()\n",
    "        return x"
   ]
  },
  {
   "cell_type": "markdown",
   "metadata": {
    "id": "ktxI0_8GwWtC"
   },
   "source": [
    "### Собираем все воедино"
   ]
  },
  {
   "cell_type": "code",
   "execution_count": null,
   "metadata": {
    "id": "3yKZdvxowZsR"
   },
   "outputs": [],
   "source": [
    "class InferenceSD(nn.Module):\n",
    "    def __init__(\n",
    "        self,\n",
    "        vqmodel,\n",
    "        unet,\n",
    "        modality_encoder,\n",
    "        diffusion,\n",
    "    ):\n",
    "        super().__init__()\n",
    "        self.vqmodel = vqmodel\n",
    "        self.unet = unet\n",
    "        self.modality_encoder = modality_encoder\n",
    "\n",
    "        self.diffusion = diffusion\n",
    "\n",
    "    def forward(self, x, t, theta):\n",
    "        z = self.vqmodel.encode(x)\n",
    "\n",
    "        theta = self.modality_encoder(theta)\n",
    "\n",
    "        predicted_noise = self.unet(x, t, theta)\n",
    "\n",
    "        x_hat = self.vqmodel.decode(predicted_noise)\n",
    "        return predicted_noise, x_hat\n",
    "\n",
    "    def predict(self, x, theta):\n",
    "        theta = self.modality_encoder(theta)\n",
    "\n",
    "        z_hat = self.diffusion.sample(\n",
    "            self.unet,\n",
    "            x,\n",
    "            theta\n",
    "        )\n",
    "\n",
    "        x_hat = self.vqmodel.decode(z_hat)\n",
    "        return x_hat"
   ]
  },
  {
   "cell_type": "code",
   "execution_count": null,
   "metadata": {
    "colab": {
     "base_uri": "https://localhost:8080/"
    },
    "id": "qQ8hLbBsQy99",
    "outputId": "5668fa47-a399-4a5f-f588-04f22f69046e"
   },
   "outputs": [
    {
     "name": "stderr",
     "output_type": "stream",
     "text": [
      "999it [05:06,  3.25it/s]\n"
     ]
    },
    {
     "name": "stdout",
     "output_type": "stream",
     "text": [
      "Output shape: torch.Size([1, 3, 256, 256])\n"
     ]
    }
   ],
   "source": [
    "diffusion = Diffusion()\n",
    "vqmodel = VQModel()\n",
    "bert_tokenizer = BERTTokenizer()\n",
    "unet = UNet(context_dim=bert_tokenizer.context_dim)\n",
    "\n",
    "sd = InferenceSD(\n",
    "    vqmodel,\n",
    "    unet,\n",
    "    bert_tokenizer,\n",
    "    diffusion,\n",
    ")\n",
    "\n",
    "\n",
    "text_input = [\"This is an example sentence for generating embeddings.\"]\n",
    "B = 1\n",
    "z_input = torch.randn(B, 3, 64, 64)\n",
    "\n",
    "\n",
    "output = sd.predict(z_input, text_input)\n",
    "print(\"Output shape:\", output.shape)\n"
   ]
  },
  {
   "cell_type": "markdown",
   "metadata": {
    "id": "BaQYblMQP9Rk"
   },
   "source": [
    "# SD from diffusers"
   ]
  },
  {
   "cell_type": "code",
   "execution_count": null,
   "metadata": {
    "colab": {
     "base_uri": "https://localhost:8080/",
     "height": 81,
     "referenced_widgets": [
      "eb1a8b8e1a79421e8af3bd24be2730c8",
      "7d31a8c1ce434e9b9d3c93921f07db3c",
      "4f35877b825142d9b93dc1db5a46b2d8",
      "b70abbcff99446d780696448aec29fe5",
      "2ffa17fc98434dd5907447465cdaafa3",
      "edd18d55def5406cae0a6785b6707010",
      "c4ae7f7b8ce742d390f13a6fc708cb9f",
      "9524f363692d4990838671cf4c1f9b22",
      "878616bd3e6b4562acd358c64cd1a1d2",
      "4841e9b795f0404c9afc151e1faa39b6",
      "7ab8064324624fb3ae7ad58378f205fe",
      "0e1bc1f19f104c24ada531c0f52521c4",
      "5e881f4d39b94742b2715c21d0428b31",
      "512712e489ff47b68c33ed73db514106",
      "0e9352a8373240e38d730d14c0310e71",
      "360e6eda41074c2084192852a353a5e6",
      "669043e5181045b4b968a66abe4933d3",
      "237ff113799b40c3b80d1a57669c48ef",
      "00620709afeb405f96eff21d35f68a07",
      "c9821762675b49c9b07cc0d5cccd7adc",
      "82a5307603e94b2dae8799a3d36a2e4c",
      "69f8862c10e14acb810100a5dbf01cba"
     ]
    },
    "id": "FZsePHwGP-eC",
    "outputId": "9951eed0-5780-498e-ff24-e63eb84a0f50"
   },
   "outputs": [
    {
     "data": {
      "application/vnd.jupyter.widget-view+json": {
       "model_id": "eb1a8b8e1a79421e8af3bd24be2730c8",
       "version_major": 2,
       "version_minor": 0
      },
      "text/plain": [
       "Loading pipeline components...:   0%|          | 0/7 [00:00<?, ?it/s]"
      ]
     },
     "metadata": {},
     "output_type": "display_data"
    },
    {
     "data": {
      "application/vnd.jupyter.widget-view+json": {
       "model_id": "0e1bc1f19f104c24ada531c0f52521c4",
       "version_major": 2,
       "version_minor": 0
      },
      "text/plain": [
       "  0%|          | 0/50 [00:00<?, ?it/s]"
      ]
     },
     "metadata": {},
     "output_type": "display_data"
    }
   ],
   "source": [
    "import torch\n",
    "from diffusers import DiffusionPipeline\n",
    "\n",
    "pipeline = DiffusionPipeline.from_pretrained(\"stabilityai/stable-diffusion-xl-base-1.0\").to(\"cuda\")\n",
    "generator = torch.Generator(\"cuda\").manual_seed(0)\n",
    "\n",
    "pipeline.enable_attention_slicing()  # Enable slicing for memory-efficient attention\n",
    "pipeline.to(torch.float16)           # Use half-precision\n",
    "\n",
    "height, width = 512, 512  # Reduce resolution\n",
    "\n",
    "\n",
    "promt = \"pepe the frog meme sad face but happy because holidays came and its cristmas\"\n",
    "image = pipeline(prompt=promt, generator=generator, height=height, width=width).images[0]\n",
    "\n",
    "image.save(\"image.png\")"
   ]
  },
  {
   "cell_type": "code",
   "execution_count": null,
   "metadata": {
    "colab": {
     "base_uri": "https://localhost:8080/",
     "height": 452
    },
    "id": "Lluw4Qz5t-Sg",
    "outputId": "61bd622f-d9f2-40eb-fd52-7f7be5b7bbc1"
   },
   "outputs": [
    {
     "data": {
      "text/plain": [
       "<matplotlib.image.AxesImage at 0x78d2274e5300>"
      ]
     },
     "execution_count": 23,
     "metadata": {},
     "output_type": "execute_result"
    },
    {
     "data": {
      "image/png": "[encoded data removed]",
      "text/plain": [
       "<Figure size 640x480 with 1 Axes>"
      ]
     },
     "metadata": {},
     "output_type": "display_data"
    }
   ],
   "source": [
    "import matplotlib.pyplot as plt\n",
    "import cv2\n",
    "plt.imshow(cv2.cvtColor(cv2.imread(\"image.png\"), cv2.COLOR_BGR2RGB))"
   ]
  },
  {
   "cell_type": "code",
   "execution_count": null,
   "metadata": {
    "id": "8UlB6bx1aoqf"
   },
   "outputs": [],
   "source": []
  }
 ],
 "metadata": {
  "accelerator": "GPU",
  "colab": {
   "collapsed_sections": [
    "hnt7To2LvP0V",
    "3H4BEJmRvq-U",
    "9EPN7tHRQ_5d"
   ],
   "gpuType": "T4",
   "provenance": []
  },
  "kernelspec": {
   "display_name": "Python 3",
   "name": "python3"
  },
  "language_info": {
   "name": "python"
  },
  "widgets": {
   "application/vnd.jupyter.widget-state+json": {
    "00620709afeb405f96eff21d35f68a07": {
     "model_module": "@jupyter-widgets/base",
     "model_module_version": "1.2.0",
     "model_name": "LayoutModel",
     "state": {
      "_model_module": "@jupyter-widgets/base",
      "_model_module_version": "1.2.0",
      "_model_name": "LayoutModel",
      "_view_count": null,
      "_view_module": "@jupyter-widgets/base",
      "_view_module_version": "1.2.0",
      "_view_name": "LayoutView",
      "align_content": null,
      "align_items": null,
      "align_self": null,
      "border": null,
      "bottom": null,
      "display": null,
      "flex": null,
      "flex_flow": null,
      "grid_area": null,
      "grid_auto_columns": null,
      "grid_auto_flow": null,
      "grid_auto_rows": null,
      "grid_column": null,
      "grid_gap": null,
      "grid_row": null,
      "grid_template_areas": null,
      "grid_template_columns": null,
      "grid_template_rows": null,
      "height": null,
      "justify_content": null,
      "justify_items": null,
      "left": null,
      "margin": null,
      "max_height": null,
      "max_width": null,
      "min_height": null,
      "min_width": null,
      "object_fit": null,
      "object_position": null,
      "order": null,
      "overflow": null,
      "overflow_x": null,
      "overflow_y": null,
      "padding": null,
      "right": null,
      "top": null,
      "visibility": null,
      "width": null
     }
    },
    "0e1bc1f19f104c24ada531c0f52521c4": {
     "model_module": "@jupyter-widgets/controls",
     "model_module_version": "1.5.0",
     "model_name": "HBoxModel",
     "state": {
      "_dom_classes": [],
      "_model_module": "@jupyter-widgets/controls",
      "_model_module_version": "1.5.0",
      "_model_name": "HBoxModel",
      "_view_count": null,
      "_view_module": "@jupyter-widgets/controls",
      "_view_module_version": "1.5.0",
      "_view_name": "HBoxView",
      "box_style": "",
      "children": [
       "IPY_MODEL_5e881f4d39b94742b2715c21d0428b31",
       "IPY_MODEL_512712e489ff47b68c33ed73db514106",
       "IPY_MODEL_0e9352a8373240e38d730d14c0310e71"
      ],
      "layout": "IPY_MODEL_360e6eda41074c2084192852a353a5e6"
     }
    },
    "0e9352a8373240e38d730d14c0310e71": {
     "model_module": "@jupyter-widgets/controls",
     "model_module_version": "1.5.0",
     "model_name": "HTMLModel",
     "state": {
      "_dom_classes": [],
      "_model_module": "@jupyter-widgets/controls",
      "_model_module_version": "1.5.0",
      "_model_name": "HTMLModel",
      "_view_count": null,
      "_view_module": "@jupyter-widgets/controls",
      "_view_module_version": "1.5.0",
      "_view_name": "HTMLView",
      "description": "",
      "description_tooltip": null,
      "layout": "IPY_MODEL_82a5307603e94b2dae8799a3d36a2e4c",
      "placeholder": "​",
      "style": "IPY_MODEL_69f8862c10e14acb810100a5dbf01cba",
      "value": " 50/50 [00:11&lt;00:00,  4.70it/s]"
     }
    },
    "237ff113799b40c3b80d1a57669c48ef": {
     "model_module": "@jupyter-widgets/controls",
     "model_module_version": "1.5.0",
     "model_name": "DescriptionStyleModel",
     "state": {
      "_model_module": "@jupyter-widgets/controls",
      "_model_module_version": "1.5.0",
      "_model_name": "DescriptionStyleModel",
      "_view_count": null,
      "_view_module": "@jupyter-widgets/base",
      "_view_module_version": "1.2.0",
      "_view_name": "StyleView",
      "description_width": ""
     }
    },
    "2ffa17fc98434dd5907447465cdaafa3": {
     "model_module": "@jupyter-widgets/base",
     "model_module_version": "1.2.0",
     "model_name": "LayoutModel",
     "state": {
      "_model_module": "@jupyter-widgets/base",
      "_model_module_version": "1.2.0",
      "_model_name": "LayoutModel",
      "_view_count": null,
      "_view_module": "@jupyter-widgets/base",
      "_view_module_version": "1.2.0",
      "_view_name": "LayoutView",
      "align_content": null,
      "align_items": null,
      "align_self": null,
      "border": null,
      "bottom": null,
      "display": null,
      "flex": null,
      "flex_flow": null,
      "grid_area": null,
      "grid_auto_columns": null,
      "grid_auto_flow": null,
      "grid_auto_rows": null,
      "grid_column": null,
      "grid_gap": null,
      "grid_row": null,
      "grid_template_areas": null,
      "grid_template_columns": null,
      "grid_template_rows": null,
      "height": null,
      "justify_content": null,
      "justify_items": null,
      "left": null,
      "margin": null,
      "max_height": null,
      "max_width": null,
      "min_height": null,
      "min_width": null,
      "object_fit": null,
      "object_position": null,
      "order": null,
      "overflow": null,
      "overflow_x": null,
      "overflow_y": null,
      "padding": null,
      "right": null,
      "top": null,
      "visibility": null,
      "width": null
     }
    },
    "360e6eda41074c2084192852a353a5e6": {
     "model_module": "@jupyter-widgets/base",
     "model_module_version": "1.2.0",
     "model_name": "LayoutModel",
     "state": {
      "_model_module": "@jupyter-widgets/base",
      "_model_module_version": "1.2.0",
      "_model_name": "LayoutModel",
      "_view_count": null,
      "_view_module": "@jupyter-widgets/base",
      "_view_module_version": "1.2.0",
      "_view_name": "LayoutView",
      "align_content": null,
      "align_items": null,
      "align_self": null,
      "border": null,
      "bottom": null,
      "display": null,
      "flex": null,
      "flex_flow": null,
      "grid_area": null,
      "grid_auto_columns": null,
      "grid_auto_flow": null,
      "grid_auto_rows": null,
      "grid_column": null,
      "grid_gap": null,
      "grid_row": null,
      "grid_template_areas": null,
      "grid_template_columns": null,
      "grid_template_rows": null,
      "height": null,
      "justify_content": null,
      "justify_items": null,
      "left": null,
      "margin": null,
      "max_height": null,
      "max_width": null,
      "min_height": null,
      "min_width": null,
      "object_fit": null,
      "object_position": null,
      "order": null,
      "overflow": null,
      "overflow_x": null,
      "overflow_y": null,
      "padding": null,
      "right": null,
      "top": null,
      "visibility": null,
      "width": null
     }
    },
    "4841e9b795f0404c9afc151e1faa39b6": {
     "model_module": "@jupyter-widgets/base",
     "model_module_version": "1.2.0",
     "model_name": "LayoutModel",
     "state": {
      "_model_module": "@jupyter-widgets/base",
      "_model_module_version": "1.2.0",
      "_model_name": "LayoutModel",
      "_view_count": null,
      "_view_module": "@jupyter-widgets/base",
      "_view_module_version": "1.2.0",
      "_view_name": "LayoutView",
      "align_content": null,
      "align_items": null,
      "align_self": null,
      "border": null,
      "bottom": null,
      "display": null,
      "flex": null,
      "flex_flow": null,
      "grid_area": null,
      "grid_auto_columns": null,
      "grid_auto_flow": null,
      "grid_auto_rows": null,
      "grid_column": null,
      "grid_gap": null,
      "grid_row": null,
      "grid_template_areas": null,
      "grid_template_columns": null,
      "grid_template_rows": null,
      "height": null,
      "justify_content": null,
      "justify_items": null,
      "left": null,
      "margin": null,
      "max_height": null,
      "max_width": null,
      "min_height": null,
      "min_width": null,
      "object_fit": null,
      "object_position": null,
      "order": null,
      "overflow": null,
      "overflow_x": null,
      "overflow_y": null,
      "padding": null,
      "right": null,
      "top": null,
      "visibility": null,
      "width": null
     }
    },
    "4f35877b825142d9b93dc1db5a46b2d8": {
     "model_module": "@jupyter-widgets/controls",
     "model_module_version": "1.5.0",
     "model_name": "FloatProgressModel",
     "state": {
      "_dom_classes": [],
      "_model_module": "@jupyter-widgets/controls",
      "_model_module_version": "1.5.0",
      "_model_name": "FloatProgressModel",
      "_view_count": null,
      "_view_module": "@jupyter-widgets/controls",
      "_view_module_version": "1.5.0",
      "_view_name": "ProgressView",
      "bar_style": "success",
      "description": "",
      "description_tooltip": null,
      "layout": "IPY_MODEL_9524f363692d4990838671cf4c1f9b22",
      "max": 7,
      "min": 0,
      "orientation": "horizontal",
      "style": "IPY_MODEL_878616bd3e6b4562acd358c64cd1a1d2",
      "value": 7
     }
    },
    "512712e489ff47b68c33ed73db514106": {
     "model_module": "@jupyter-widgets/controls",
     "model_module_version": "1.5.0",
     "model_name": "FloatProgressModel",
     "state": {
      "_dom_classes": [],
      "_model_module": "@jupyter-widgets/controls",
      "_model_module_version": "1.5.0",
      "_model_name": "FloatProgressModel",
      "_view_count": null,
      "_view_module": "@jupyter-widgets/controls",
      "_view_module_version": "1.5.0",
      "_view_name": "ProgressView",
      "bar_style": "success",
      "description": "",
      "description_tooltip": null,
      "layout": "IPY_MODEL_00620709afeb405f96eff21d35f68a07",
      "max": 50,
      "min": 0,
      "orientation": "horizontal",
      "style": "IPY_MODEL_c9821762675b49c9b07cc0d5cccd7adc",
      "value": 50
     }
    },
    "5e881f4d39b94742b2715c21d0428b31": {
     "model_module": "@jupyter-widgets/controls",
     "model_module_version": "1.5.0",
     "model_name": "HTMLModel",
     "state": {
      "_dom_classes": [],
      "_model_module": "@jupyter-widgets/controls",
      "_model_module_version": "1.5.0",
      "_model_name": "HTMLModel",
      "_view_count": null,
      "_view_module": "@jupyter-widgets/controls",
      "_view_module_version": "1.5.0",
      "_view_name": "HTMLView",
      "description": "",
      "description_tooltip": null,
      "layout": "IPY_MODEL_669043e5181045b4b968a66abe4933d3",
      "placeholder": "​",
      "style": "IPY_MODEL_237ff113799b40c3b80d1a57669c48ef",
      "value": "100%"
     }
    },
    "669043e5181045b4b968a66abe4933d3": {
     "model_module": "@jupyter-widgets/base",
     "model_module_version": "1.2.0",
     "model_name": "LayoutModel",
     "state": {
      "_model_module": "@jupyter-widgets/base",
      "_model_module_version": "1.2.0",
      "_model_name": "LayoutModel",
      "_view_count": null,
      "_view_module": "@jupyter-widgets/base",
      "_view_module_version": "1.2.0",
      "_view_name": "LayoutView",
      "align_content": null,
      "align_items": null,
      "align_self": null,
      "border": null,
      "bottom": null,
      "display": null,
      "flex": null,
      "flex_flow": null,
      "grid_area": null,
      "grid_auto_columns": null,
      "grid_auto_flow": null,
      "grid_auto_rows": null,
      "grid_column": null,
      "grid_gap": null,
      "grid_row": null,
      "grid_template_areas": null,
      "grid_template_columns": null,
      "grid_template_rows": null,
      "height": null,
      "justify_content": null,
      "justify_items": null,
      "left": null,
      "margin": null,
      "max_height": null,
      "max_width": null,
      "min_height": null,
      "min_width": null,
      "object_fit": null,
      "object_position": null,
      "order": null,
      "overflow": null,
      "overflow_x": null,
      "overflow_y": null,
      "padding": null,
      "right": null,
      "top": null,
      "visibility": null,
      "width": null
     }
    },
    "69f8862c10e14acb810100a5dbf01cba": {
     "model_module": "@jupyter-widgets/controls",
     "model_module_version": "1.5.0",
     "model_name": "DescriptionStyleModel",
     "state": {
      "_model_module": "@jupyter-widgets/controls",
      "_model_module_version": "1.5.0",
      "_model_name": "DescriptionStyleModel",
      "_view_count": null,
      "_view_module": "@jupyter-widgets/base",
      "_view_module_version": "1.2.0",
      "_view_name": "StyleView",
      "description_width": ""
     }
    },
    "7ab8064324624fb3ae7ad58378f205fe": {
     "model_module": "@jupyter-widgets/controls",
     "model_module_version": "1.5.0",
     "model_name": "DescriptionStyleModel",
     "state": {
      "_model_module": "@jupyter-widgets/controls",
      "_model_module_version": "1.5.0",
      "_model_name": "DescriptionStyleModel",
      "_view_count": null,
      "_view_module": "@jupyter-widgets/base",
      "_view_module_version": "1.2.0",
      "_view_name": "StyleView",
      "description_width": ""
     }
    },
    "7d31a8c1ce434e9b9d3c93921f07db3c": {
     "model_module": "@jupyter-widgets/controls",
     "model_module_version": "1.5.0",
     "model_name": "HTMLModel",
     "state": {
      "_dom_classes": [],
      "_model_module": "@jupyter-widgets/controls",
      "_model_module_version": "1.5.0",
      "_model_name": "HTMLModel",
      "_view_count": null,
      "_view_module": "@jupyter-widgets/controls",
      "_view_module_version": "1.5.0",
      "_view_name": "HTMLView",
      "description": "",
      "description_tooltip": null,
      "layout": "IPY_MODEL_edd18d55def5406cae0a6785b6707010",
      "placeholder": "​",
      "style": "IPY_MODEL_c4ae7f7b8ce742d390f13a6fc708cb9f",
      "value": "Loading pipeline components...: 100%"
     }
    },
    "82a5307603e94b2dae8799a3d36a2e4c": {
     "model_module": "@jupyter-widgets/base",
     "model_module_version": "1.2.0",
     "model_name": "LayoutModel",
     "state": {
      "_model_module": "@jupyter-widgets/base",
      "_model_module_version": "1.2.0",
      "_model_name": "LayoutModel",
      "_view_count": null,
      "_view_module": "@jupyter-widgets/base",
      "_view_module_version": "1.2.0",
      "_view_name": "LayoutView",
      "align_content": null,
      "align_items": null,
      "align_self": null,
      "border": null,
      "bottom": null,
      "display": null,
      "flex": null,
      "flex_flow": null,
      "grid_area": null,
      "grid_auto_columns": null,
      "grid_auto_flow": null,
      "grid_auto_rows": null,
      "grid_column": null,
      "grid_gap": null,
      "grid_row": null,
      "grid_template_areas": null,
      "grid_template_columns": null,
      "grid_template_rows": null,
      "height": null,
      "justify_content": null,
      "justify_items": null,
      "left": null,
      "margin": null,
      "max_height": null,
      "max_width": null,
      "min_height": null,
      "min_width": null,
      "object_fit": null,
      "object_position": null,
      "order": null,
      "overflow": null,
      "overflow_x": null,
      "overflow_y": null,
      "padding": null,
      "right": null,
      "top": null,
      "visibility": null,
      "width": null
     }
    },
    "878616bd3e6b4562acd358c64cd1a1d2": {
     "model_module": "@jupyter-widgets/controls",
     "model_module_version": "1.5.0",
     "model_name": "ProgressStyleModel",
     "state": {
      "_model_module": "@jupyter-widgets/controls",
      "_model_module_version": "1.5.0",
      "_model_name": "ProgressStyleModel",
      "_view_count": null,
      "_view_module": "@jupyter-widgets/base",
      "_view_module_version": "1.2.0",
      "_view_name": "StyleView",
      "bar_color": null,
      "description_width": ""
     }
    },
    "9524f363692d4990838671cf4c1f9b22": {
     "model_module": "@jupyter-widgets/base",
     "model_module_version": "1.2.0",
     "model_name": "LayoutModel",
     "state": {
      "_model_module": "@jupyter-widgets/base",
      "_model_module_version": "1.2.0",
      "_model_name": "LayoutModel",
      "_view_count": null,
      "_view_module": "@jupyter-widgets/base",
      "_view_module_version": "1.2.0",
      "_view_name": "LayoutView",
      "align_content": null,
      "align_items": null,
      "align_self": null,
      "border": null,
      "bottom": null,
      "display": null,
      "flex": null,
      "flex_flow": null,
      "grid_area": null,
      "grid_auto_columns": null,
      "grid_auto_flow": null,
      "grid_auto_rows": null,
      "grid_column": null,
      "grid_gap": null,
      "grid_row": null,
      "grid_template_areas": null,
      "grid_template_columns": null,
      "grid_template_rows": null,
      "height": null,
      "justify_content": null,
      "justify_items": null,
      "left": null,
      "margin": null,
      "max_height": null,
      "max_width": null,
      "min_height": null,
      "min_width": null,
      "object_fit": null,
      "object_position": null,
      "order": null,
      "overflow": null,
      "overflow_x": null,
      "overflow_y": null,
      "padding": null,
      "right": null,
      "top": null,
      "visibility": null,
      "width": null
     }
    },
    "b70abbcff99446d780696448aec29fe5": {
     "model_module": "@jupyter-widgets/controls",
     "model_module_version": "1.5.0",
     "model_name": "HTMLModel",
     "state": {
      "_dom_classes": [],
      "_model_module": "@jupyter-widgets/controls",
      "_model_module_version": "1.5.0",
      "_model_name": "HTMLModel",
      "_view_count": null,
      "_view_module": "@jupyter-widgets/controls",
      "_view_module_version": "1.5.0",
      "_view_name": "HTMLView",
      "description": "",
      "description_tooltip": null,
      "layout": "IPY_MODEL_4841e9b795f0404c9afc151e1faa39b6",
      "placeholder": "​",
      "style": "IPY_MODEL_7ab8064324624fb3ae7ad58378f205fe",
      "value": " 7/7 [00:01&lt;00:00,  3.79it/s]"
     }
    },
    "c4ae7f7b8ce742d390f13a6fc708cb9f": {
     "model_module": "@jupyter-widgets/controls",
     "model_module_version": "1.5.0",
     "model_name": "DescriptionStyleModel",
     "state": {
      "_model_module": "@jupyter-widgets/controls",
      "_model_module_version": "1.5.0",
      "_model_name": "DescriptionStyleModel",
      "_view_count": null,
      "_view_module": "@jupyter-widgets/base",
      "_view_module_version": "1.2.0",
      "_view_name": "StyleView",
      "description_width": ""
     }
    },
    "c9821762675b49c9b07cc0d5cccd7adc": {
     "model_module": "@jupyter-widgets/controls",
     "model_module_version": "1.5.0",
     "model_name": "ProgressStyleModel",
     "state": {
      "_model_module": "@jupyter-widgets/controls",
      "_model_module_version": "1.5.0",
      "_model_name": "ProgressStyleModel",
      "_view_count": null,
      "_view_module": "@jupyter-widgets/base",
      "_view_module_version": "1.2.0",
      "_view_name": "StyleView",
      "bar_color": null,
      "description_width": ""
     }
    },
    "eb1a8b8e1a79421e8af3bd24be2730c8": {
     "model_module": "@jupyter-widgets/controls",
     "model_module_version": "1.5.0",
     "model_name": "HBoxModel",
     "state": {
      "_dom_classes": [],
      "_model_module": "@jupyter-widgets/controls",
      "_model_module_version": "1.5.0",
      "_model_name": "HBoxModel",
      "_view_count": null,
      "_view_module": "@jupyter-widgets/controls",
      "_view_module_version": "1.5.0",
      "_view_name": "HBoxView",
      "box_style": "",
      "children": [
       "IPY_MODEL_7d31a8c1ce434e9b9d3c93921f07db3c",
       "IPY_MODEL_4f35877b825142d9b93dc1db5a46b2d8",
       "IPY_MODEL_b70abbcff99446d780696448aec29fe5"
      ],
      "layout": "IPY_MODEL_2ffa17fc98434dd5907447465cdaafa3"
     }
    },
    "edd18d55def5406cae0a6785b6707010": {
     "model_module": "@jupyter-widgets/base",
     "model_module_version": "1.2.0",
     "model_name": "LayoutModel",
     "state": {
      "_model_module": "@jupyter-widgets/base",
      "_model_module_version": "1.2.0",
      "_model_name": "LayoutModel",
      "_view_count": null,
      "_view_module": "@jupyter-widgets/base",
      "_view_module_version": "1.2.0",
      "_view_name": "LayoutView",
      "align_content": null,
      "align_items": null,
      "align_self": null,
      "border": null,
      "bottom": null,
      "display": null,
      "flex": null,
      "flex_flow": null,
      "grid_area": null,
      "grid_auto_columns": null,
      "grid_auto_flow": null,
      "grid_auto_rows": null,
      "grid_column": null,
      "grid_gap": null,
      "grid_row": null,
      "grid_template_areas": null,
      "grid_template_columns": null,
      "grid_template_rows": null,
      "height": null,
      "justify_content": null,
      "justify_items": null,
      "left": null,
      "margin": null,
      "max_height": null,
      "max_width": null,
      "min_height": null,
      "min_width": null,
      "object_fit": null,
      "object_position": null,
      "order": null,
      "overflow": null,
      "overflow_x": null,
      "overflow_y": null,
      "padding": null,
      "right": null,
      "top": null,
      "visibility": null,
      "width": null
     }
    }
   }
  }
 },
 "nbformat": 4,
 "nbformat_minor": 0
}
