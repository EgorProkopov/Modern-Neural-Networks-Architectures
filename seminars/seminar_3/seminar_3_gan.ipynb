{
  "cells": [
    {
      "cell_type": "markdown",
      "metadata": {
        "id": "E1TxQM2-_MKg"
      },
      "source": [
        "# Семинар 3. GAN и CGAN."
      ]
    },
    {
      "cell_type": "markdown",
      "metadata": {
        "id": "66SZrV_r_Pdk"
      },
      "source": [
        "В этом семинаре мы рассмотрим процесс обучения GAN."
      ]
    },
    {
      "cell_type": "markdown",
      "metadata": {
        "id": "d1uCpRVT_UNs"
      },
      "source": [
        "# Импорты"
      ]
    },
    {
      "cell_type": "code",
      "execution_count": null,
      "metadata": {
        "id": "UkcvrQh7_JmP"
      },
      "outputs": [],
      "source": [
        "import numpy as np\n",
        "import matplotlib.pyplot as plt\n",
        "from PIL import Image\n",
        "from tqdm import tqdm\n",
        "\n",
        "import torch\n",
        "import torch.nn as nn\n",
        "import torchvision\n",
        "from torch.nn import functional as func\n",
        "from torch.utils.data import DataLoader\n",
        "import torchvision.transforms as transforms\n",
        "\n",
        "from torchsummary import summary"
      ]
    },
    {
      "cell_type": "markdown",
      "metadata": {
        "id": "2nzQGRvv_WD3"
      },
      "source": [
        "В экспериментах с генеративными сетями всегда лучше проставлять сид генерации. Для GAN из-за их нестабильности это особенно критично."
      ]
    },
    {
      "cell_type": "code",
      "execution_count": null,
      "metadata": {
        "id": "SVwmMk0D_JmS",
        "outputId": "daf39398-465d-4359-e052-11230d1c84c6"
      },
      "outputs": [
        {
          "data": {
            "text/plain": [
              "<torch._C.Generator at 0x10d853710>"
            ]
          },
          "execution_count": 2,
          "metadata": {},
          "output_type": "execute_result"
        }
      ],
      "source": [
        "torch.manual_seed(666)"
      ]
    },
    {
      "cell_type": "markdown",
      "metadata": {
        "id": "d5ItlZFI_JmT"
      },
      "source": [
        "# Dataset"
      ]
    },
    {
      "cell_type": "code",
      "execution_count": null,
      "metadata": {
        "id": "vi77ZF7h_JmX",
        "outputId": "97971070-8360-4af6-9032-cb49c3387f15"
      },
      "outputs": [
        {
          "name": "stdout",
          "output_type": "stream",
          "text": [
            "Downloading http://fashion-mnist.s3-website.eu-central-1.amazonaws.com/train-images-idx3-ubyte.gz\n",
            "Downloading http://fashion-mnist.s3-website.eu-central-1.amazonaws.com/train-images-idx3-ubyte.gz to ./data/FashionMNIST/raw/train-images-idx3-ubyte.gz\n"
          ]
        },
        {
          "name": "stderr",
          "output_type": "stream",
          "text": [
            "100%|██████████| 26421880/26421880 [00:09<00:00, 2713281.96it/s]\n"
          ]
        },
        {
          "name": "stdout",
          "output_type": "stream",
          "text": [
            "Extracting ./data/FashionMNIST/raw/train-images-idx3-ubyte.gz to ./data/FashionMNIST/raw\n",
            "\n",
            "Downloading http://fashion-mnist.s3-website.eu-central-1.amazonaws.com/train-labels-idx1-ubyte.gz\n",
            "Downloading http://fashion-mnist.s3-website.eu-central-1.amazonaws.com/train-labels-idx1-ubyte.gz to ./data/FashionMNIST/raw/train-labels-idx1-ubyte.gz\n"
          ]
        },
        {
          "name": "stderr",
          "output_type": "stream",
          "text": [
            "100%|██████████| 29515/29515 [00:00<00:00, 944083.85it/s]\n"
          ]
        },
        {
          "name": "stdout",
          "output_type": "stream",
          "text": [
            "Extracting ./data/FashionMNIST/raw/train-labels-idx1-ubyte.gz to ./data/FashionMNIST/raw\n",
            "\n",
            "Downloading http://fashion-mnist.s3-website.eu-central-1.amazonaws.com/t10k-images-idx3-ubyte.gz\n",
            "Downloading http://fashion-mnist.s3-website.eu-central-1.amazonaws.com/t10k-images-idx3-ubyte.gz to ./data/FashionMNIST/raw/t10k-images-idx3-ubyte.gz\n"
          ]
        },
        {
          "name": "stderr",
          "output_type": "stream",
          "text": [
            "100%|██████████| 4422102/4422102 [00:01<00:00, 2776007.29it/s]\n"
          ]
        },
        {
          "name": "stdout",
          "output_type": "stream",
          "text": [
            "Extracting ./data/FashionMNIST/raw/t10k-images-idx3-ubyte.gz to ./data/FashionMNIST/raw\n",
            "\n",
            "Downloading http://fashion-mnist.s3-website.eu-central-1.amazonaws.com/t10k-labels-idx1-ubyte.gz\n",
            "Downloading http://fashion-mnist.s3-website.eu-central-1.amazonaws.com/t10k-labels-idx1-ubyte.gz to ./data/FashionMNIST/raw/t10k-labels-idx1-ubyte.gz\n"
          ]
        },
        {
          "name": "stderr",
          "output_type": "stream",
          "text": [
            "100%|██████████| 5148/5148 [00:00<00:00, 4963741.84it/s]"
          ]
        },
        {
          "name": "stdout",
          "output_type": "stream",
          "text": [
            "Extracting ./data/FashionMNIST/raw/t10k-labels-idx1-ubyte.gz to ./data/FashionMNIST/raw\n",
            "\n"
          ]
        },
        {
          "name": "stderr",
          "output_type": "stream",
          "text": [
            "\n"
          ]
        }
      ],
      "source": [
        "# Define the transformation\n",
        "transform = transforms.Compose([\n",
        "    transforms.ToTensor(),\n",
        "    # нормализуем значения теперь в [-1, 1]\n",
        "    # таким образом, выход генератора будет для дискриминатора менее отличим от реальных данных\n",
        "    transforms.Normalize(\n",
        "        mean=0.5,\n",
        "        std=0.5\n",
        "    )\n",
        "])\n",
        "\n",
        "# Load the dataset\n",
        "train_dataset = torchvision.datasets.FashionMNIST(root='./data', train=True, download=True, transform=transform)"
      ]
    },
    {
      "cell_type": "code",
      "execution_count": null,
      "metadata": {
        "id": "KMyCiR8h_JmX"
      },
      "outputs": [],
      "source": [
        "dataloader = DataLoader(train_dataset, batch_size=32, shuffle=True)"
      ]
    },
    {
      "cell_type": "markdown",
      "metadata": {
        "id": "ysiUrfb5_JmY"
      },
      "source": [
        "# Training"
      ]
    },
    {
      "cell_type": "markdown",
      "metadata": {
        "id": "z3E-qx6T_JmY"
      },
      "source": [
        "Обучим линейный генератор для датасета fashionMNIST."
      ]
    },
    {
      "cell_type": "code",
      "execution_count": null,
      "metadata": {
        "id": "oEQ9s_S3_JmY"
      },
      "outputs": [],
      "source": [
        "class Generator(nn.Module):\n",
        "    def __init__(self, nz, hidden_dim=32, output_size=28*28):\n",
        "        super().__init__()\n",
        "\n",
        "        self.gen = nn.Sequential(\n",
        "            nn.Linear(nz, hidden_dim),\n",
        "            nn.LeakyReLU(0.2, inplace=True),\n",
        "            nn.Linear(hidden_dim, hidden_dim*2),\n",
        "            nn.LeakyReLU(0.2, inplace=True),\n",
        "            nn.Linear(hidden_dim*2, hidden_dim*4),\n",
        "            nn.LeakyReLU(0.2, inplace=True),\n",
        "            nn.Linear(hidden_dim*4, output_size),\n",
        "            # используем Tanh как фукнцию активации - более стабильная\n",
        "            nn.Tanh(),\n",
        "        )\n",
        "\n",
        "\n",
        "    def forward(self, x):\n",
        "        x = self.gen(x)\n",
        "        return x"
      ]
    },
    {
      "cell_type": "markdown",
      "metadata": {
        "id": "ld14xn1L_9_b"
      },
      "source": [
        "Дискриминатор представляет собой обычный классификатор."
      ]
    },
    {
      "cell_type": "code",
      "execution_count": null,
      "metadata": {
        "id": "asdNC2aP_JmY"
      },
      "outputs": [],
      "source": [
        "class Discriminator(nn.Module):\n",
        "    def __init__(self, input_size=28*28, hidden_dim=32, output_size=1):\n",
        "        super().__init__()\n",
        "        self.input_size = input_size\n",
        "\n",
        "        self.disc = nn.Sequential(\n",
        "            nn.Linear(input_size, hidden_dim*4),\n",
        "            nn.LeakyReLU(0.2, inplace=True),\n",
        "            nn.Dropout(0.3),\n",
        "            nn.Linear(hidden_dim*4, hidden_dim*2),\n",
        "            nn.LeakyReLU(0.2, inplace=True),\n",
        "            nn.Dropout(0.3),\n",
        "        )\n",
        "\n",
        "        self.classifier = nn.Linear(hidden_dim*2, output_size)\n",
        "\n",
        "        self.act = nn.Sigmoid()\n",
        "\n",
        "\n",
        "    def forward(self, x):\n",
        "        x = x.view(-1, self.input_size)\n",
        "        x = self.disc(x)\n",
        "\n",
        "        x = self.classifier(x)\n",
        "        x = self.act(x)\n",
        "        return x"
      ]
    },
    {
      "cell_type": "code",
      "execution_count": null,
      "metadata": {
        "id": "dByoX7WS_JmZ",
        "outputId": "90c44b1b-8acb-4b64-80e9-a490d01122a8"
      },
      "outputs": [
        {
          "name": "stdout",
          "output_type": "stream",
          "text": [
            "----------------------------------------------------------------\n",
            "        Layer (type)               Output Shape         Param #\n",
            "================================================================\n",
            "            Linear-1                  [-1, 128]         100,480\n",
            "         LeakyReLU-2                  [-1, 128]               0\n",
            "           Dropout-3                  [-1, 128]               0\n",
            "            Linear-4                   [-1, 64]           8,256\n",
            "         LeakyReLU-5                   [-1, 64]               0\n",
            "           Dropout-6                   [-1, 64]               0\n",
            "            Linear-7                    [-1, 1]              65\n",
            "           Sigmoid-8                    [-1, 1]               0\n",
            "================================================================\n",
            "Total params: 108,801\n",
            "Trainable params: 108,801\n",
            "Non-trainable params: 0\n",
            "----------------------------------------------------------------\n",
            "Input size (MB): 0.00\n",
            "Forward/backward pass size (MB): 0.00\n",
            "Params size (MB): 0.42\n",
            "Estimated Total Size (MB): 0.42\n",
            "----------------------------------------------------------------\n"
          ]
        }
      ],
      "source": [
        "summary(Discriminator(), (1, 28*28))"
      ]
    },
    {
      "cell_type": "markdown",
      "metadata": {
        "id": "vaEc_f1hACrz"
      },
      "source": [
        "Рассмотрим процесс обучения генератора."
      ]
    },
    {
      "cell_type": "code",
      "execution_count": null,
      "metadata": {
        "id": "nE0tZOyq_JmZ"
      },
      "outputs": [],
      "source": [
        "def _train_generator(batch, gen, disc, nz, gen_loss, gen_opt, device):\n",
        "    gen_opt.zero_grad()\n",
        "\n",
        "    # генерируем вектор шума\n",
        "    noise = torch.randn(batch.shape[0], 1, nz, device=device)\n",
        "    # получаем сгенерированное изображение\n",
        "    fake_img = gen(noise)\n",
        "    # получаем предсказания дискриминатора - что он думает?\n",
        "    fake_preds = disc(fake_img)\n",
        "    targets = torch.ones(batch.shape[0], 1, device=device)\n",
        "    # считаем разницу между выходом дискриминатора и вектором \"правды\"\n",
        "    # тут мы учимся обманывать дискриминатор\n",
        "    g_loss = gen_loss(fake_preds, targets)\n",
        "    g_loss.backward()\n",
        "    gen_opt.step()\n",
        "\n",
        "    return g_loss"
      ]
    },
    {
      "cell_type": "code",
      "execution_count": null,
      "metadata": {
        "id": "RMf6Q5i1_JmZ"
      },
      "outputs": [],
      "source": [
        "def _train_discriminator(batch, gen, disc, nz, disc_loss, disc_opt, device):\n",
        "    # учим дискриминатор\n",
        "    disc_opt.zero_grad()\n",
        "\n",
        "    # смотрим, что предсказывает дискриминатор\n",
        "    real_preds = disc(batch)\n",
        "    real_targets = 0.9 * torch.ones(batch.shape[0], 1, device=device)\n",
        "    # считаем разницу между \"истиной\" и предсказаниями\n",
        "    real_loss = disc_loss(real_preds, real_targets)\n",
        "\n",
        "    # возьмем вектор шума и сгенерируем изображения\n",
        "    noise = torch.randn(batch.shape[0], 1, nz, device=device)\n",
        "    fake_img = gen(noise)\n",
        "\n",
        "    # получим предсказания дискриминатора\n",
        "    fake_preds = disc(fake_img)\n",
        "    fake_targets = torch.zeros(batch.shape[0], 1, device=device)\n",
        "    # считаем разницу между \"ложью\" и предсказаниями\n",
        "    fake_loss = disc_loss(fake_preds, fake_targets)\n",
        "\n",
        "    d_loss = real_loss + fake_loss\n",
        "    d_loss.backward()\n",
        "    disc_opt.step()\n",
        "\n",
        "    return real_loss, fake_loss, d_loss"
      ]
    },
    {
      "cell_type": "code",
      "execution_count": null,
      "metadata": {
        "id": "2aa3mcpw_JmZ"
      },
      "outputs": [],
      "source": [
        "def _count_scores(real_loss, fake_loss):\n",
        "    real_score = real_loss.mean().item()\n",
        "    fake_score = fake_loss.mean().item()\n",
        "    return real_score, fake_score"
      ]
    },
    {
      "cell_type": "code",
      "execution_count": null,
      "metadata": {
        "id": "3otpmBWs_JmZ"
      },
      "outputs": [],
      "source": [
        "def train_gan(gen, gen_loss, gen_opt,\n",
        "              disc, disc_loss, disc_opt,\n",
        "              dataloader, device='cpu', epochs=1, nz=32):\n",
        "    print(device)\n",
        "    device = torch.device(device)\n",
        "\n",
        "    gen.train()\n",
        "    disc.train()\n",
        "\n",
        "    gen_loss.to(device)\n",
        "    disc_loss.to(device)\n",
        "\n",
        "    gen.to(device)\n",
        "    disc.to(device)\n",
        "\n",
        "    losses_d = []\n",
        "    losses_g = []\n",
        "    real_scores = []\n",
        "    fake_scores = []\n",
        "\n",
        "    for epoch in range(epochs):\n",
        "\n",
        "        losses_d_running = []\n",
        "        losses_g_running = []\n",
        "        real_scores_running = []\n",
        "        fake_scores_running = []\n",
        "\n",
        "        for index, batch in enumerate(tqdm(dataloader)):\n",
        "            input_, _ = batch\n",
        "\n",
        "            input_ = input_.to(device)\n",
        "            # учим дискриминатор\n",
        "            real_loss, fake_loss, d_loss = _train_discriminator(\n",
        "                input_,\n",
        "                gen=gen,\n",
        "                disc=disc,\n",
        "                nz=nz,\n",
        "                disc_loss=disc_loss,\n",
        "                disc_opt=disc_opt,\n",
        "                device=device,\n",
        "            )\n",
        "\n",
        "            losses_d_running.append(d_loss.item())\n",
        "\n",
        "            real_score, fake_score = _count_scores(real_loss, fake_loss)\n",
        "\n",
        "\n",
        "            real_scores_running.append(real_score)\n",
        "            fake_scores_running.append(fake_score)\n",
        "\n",
        "            if index % 4 == 0:\n",
        "                # раз в несколько итераций учим генератор\n",
        "                g_loss = _train_generator(\n",
        "                    input_,\n",
        "                    gen=gen,\n",
        "                    disc=disc,\n",
        "                    nz=nz,\n",
        "                    gen_loss=gen_loss,\n",
        "                    gen_opt=gen_opt,\n",
        "                    device=device,\n",
        "                )\n",
        "\n",
        "                losses_g_running.append(g_loss.item())\n",
        "\n",
        "        losses_g.append(np.mean(losses_g_running))\n",
        "        losses_d.append(np.mean(losses_d_running))\n",
        "        real_scores.append(np.mean(real_scores_running))\n",
        "        fake_scores.append(np.mean(fake_scores_running))\n",
        "        print(\"Epoch [{}/{}], loss_g: {:.4f}, loss_d: {:.4f}, real_score: {:.4f}, fake_score: {:.4f}\".format(\n",
        "            epoch+1, epochs,\n",
        "            losses_g[-1], losses_d[-1], real_scores[-1], fake_scores[-1])\n",
        "        )\n",
        "    return losses_g, losses_d, real_scores, fake_scores"
      ]
    },
    {
      "cell_type": "code",
      "execution_count": null,
      "metadata": {
        "id": "sHw-d7TP_Jma"
      },
      "outputs": [],
      "source": [
        "gen_loss = nn.BCELoss()\n",
        "disc_loss = nn.BCELoss()\n",
        "\n",
        "device = 'mps'"
      ]
    },
    {
      "cell_type": "code",
      "execution_count": null,
      "metadata": {
        "id": "SViYp_U3_Jma"
      },
      "outputs": [],
      "source": [
        "hidden_dim = 32\n",
        "nz = 32\n",
        "epochs = 15\n",
        "\n",
        "disc = Discriminator(hidden_dim=hidden_dim)\n",
        "gen = Generator(nz, hidden_dim=hidden_dim)\n",
        "\n",
        "disc_optim = torch.optim.Adam(disc.parameters(), lr=1*10e-4)\n",
        "gen_optim = torch.optim.Adam(gen.parameters(), lr=1*10e-4)"
      ]
    },
    {
      "cell_type": "code",
      "execution_count": null,
      "metadata": {
        "id": "2nSpvnse_Jma",
        "outputId": "b85d400a-a210-47a2-ff5a-49e7b841c32e"
      },
      "outputs": [
        {
          "name": "stdout",
          "output_type": "stream",
          "text": [
            "mps\n"
          ]
        },
        {
          "name": "stderr",
          "output_type": "stream",
          "text": [
            "100%|██████████| 1875/1875 [00:21<00:00, 86.29it/s]\n"
          ]
        },
        {
          "name": "stdout",
          "output_type": "stream",
          "text": [
            "Epoch [1/15], loss_g: 7.1022, loss_d: 0.3694, real_score: 0.3469, fake_score: 0.0225\n"
          ]
        },
        {
          "name": "stderr",
          "output_type": "stream",
          "text": [
            "100%|██████████| 1875/1875 [00:20<00:00, 90.15it/s]\n"
          ]
        },
        {
          "name": "stdout",
          "output_type": "stream",
          "text": [
            "Epoch [2/15], loss_g: 6.3112, loss_d: 0.3645, real_score: 0.3552, fake_score: 0.0094\n"
          ]
        },
        {
          "name": "stderr",
          "output_type": "stream",
          "text": [
            "100%|██████████| 1875/1875 [00:21<00:00, 85.49it/s]\n"
          ]
        },
        {
          "name": "stdout",
          "output_type": "stream",
          "text": [
            "Epoch [3/15], loss_g: 6.3317, loss_d: 0.3843, real_score: 0.3665, fake_score: 0.0178\n"
          ]
        },
        {
          "name": "stderr",
          "output_type": "stream",
          "text": [
            "100%|██████████| 1875/1875 [00:21<00:00, 87.69it/s]\n"
          ]
        },
        {
          "name": "stdout",
          "output_type": "stream",
          "text": [
            "Epoch [4/15], loss_g: 5.6517, loss_d: 0.4058, real_score: 0.3813, fake_score: 0.0245\n"
          ]
        },
        {
          "name": "stderr",
          "output_type": "stream",
          "text": [
            "100%|██████████| 1875/1875 [00:22<00:00, 84.58it/s]\n"
          ]
        },
        {
          "name": "stdout",
          "output_type": "stream",
          "text": [
            "Epoch [5/15], loss_g: 5.2138, loss_d: 0.4810, real_score: 0.4173, fake_score: 0.0637\n"
          ]
        },
        {
          "name": "stderr",
          "output_type": "stream",
          "text": [
            "100%|██████████| 1875/1875 [00:21<00:00, 87.54it/s]\n"
          ]
        },
        {
          "name": "stdout",
          "output_type": "stream",
          "text": [
            "Epoch [6/15], loss_g: 3.9491, loss_d: 0.5874, real_score: 0.4740, fake_score: 0.1134\n"
          ]
        },
        {
          "name": "stderr",
          "output_type": "stream",
          "text": [
            "100%|██████████| 1875/1875 [00:21<00:00, 87.17it/s]\n"
          ]
        },
        {
          "name": "stdout",
          "output_type": "stream",
          "text": [
            "Epoch [7/15], loss_g: 3.7196, loss_d: 0.6263, real_score: 0.4937, fake_score: 0.1326\n"
          ]
        },
        {
          "name": "stderr",
          "output_type": "stream",
          "text": [
            "100%|██████████| 1875/1875 [00:21<00:00, 88.24it/s]\n"
          ]
        },
        {
          "name": "stdout",
          "output_type": "stream",
          "text": [
            "Epoch [8/15], loss_g: 3.3316, loss_d: 0.6819, real_score: 0.5159, fake_score: 0.1660\n"
          ]
        },
        {
          "name": "stderr",
          "output_type": "stream",
          "text": [
            "100%|██████████| 1875/1875 [00:22<00:00, 85.17it/s]\n"
          ]
        },
        {
          "name": "stdout",
          "output_type": "stream",
          "text": [
            "Epoch [9/15], loss_g: 3.1477, loss_d: 0.7136, real_score: 0.5287, fake_score: 0.1850\n"
          ]
        },
        {
          "name": "stderr",
          "output_type": "stream",
          "text": [
            "100%|██████████| 1875/1875 [00:21<00:00, 85.77it/s]\n"
          ]
        },
        {
          "name": "stdout",
          "output_type": "stream",
          "text": [
            "Epoch [10/15], loss_g: 2.8684, loss_d: 0.7571, real_score: 0.5479, fake_score: 0.2091\n"
          ]
        },
        {
          "name": "stderr",
          "output_type": "stream",
          "text": [
            "100%|██████████| 1875/1875 [00:21<00:00, 85.86it/s]\n"
          ]
        },
        {
          "name": "stdout",
          "output_type": "stream",
          "text": [
            "Epoch [11/15], loss_g: 2.7106, loss_d: 0.7951, real_score: 0.5616, fake_score: 0.2335\n"
          ]
        },
        {
          "name": "stderr",
          "output_type": "stream",
          "text": [
            "100%|██████████| 1875/1875 [00:21<00:00, 88.72it/s]\n"
          ]
        },
        {
          "name": "stdout",
          "output_type": "stream",
          "text": [
            "Epoch [12/15], loss_g: 2.5561, loss_d: 0.8037, real_score: 0.5691, fake_score: 0.2346\n"
          ]
        },
        {
          "name": "stderr",
          "output_type": "stream",
          "text": [
            "100%|██████████| 1875/1875 [00:21<00:00, 88.25it/s]\n"
          ]
        },
        {
          "name": "stdout",
          "output_type": "stream",
          "text": [
            "Epoch [13/15], loss_g: 2.5464, loss_d: 0.8155, real_score: 0.5722, fake_score: 0.2433\n"
          ]
        },
        {
          "name": "stderr",
          "output_type": "stream",
          "text": [
            "100%|██████████| 1875/1875 [00:21<00:00, 89.03it/s]\n"
          ]
        },
        {
          "name": "stdout",
          "output_type": "stream",
          "text": [
            "Epoch [14/15], loss_g: 2.4674, loss_d: 0.8332, real_score: 0.5788, fake_score: 0.2543\n"
          ]
        },
        {
          "name": "stderr",
          "output_type": "stream",
          "text": [
            "100%|██████████| 1875/1875 [00:21<00:00, 87.24it/s]"
          ]
        },
        {
          "name": "stdout",
          "output_type": "stream",
          "text": [
            "Epoch [15/15], loss_g: 2.3245, loss_d: 0.8636, real_score: 0.5920, fake_score: 0.2715\n"
          ]
        },
        {
          "name": "stderr",
          "output_type": "stream",
          "text": [
            "\n"
          ]
        }
      ],
      "source": [
        "g_loss, d_loss, real_score, fake_score = train_gan(\n",
        "    gen, gen_loss, gen_optim,\n",
        "    disc, disc_loss, disc_optim,\n",
        "    dataloader, device, epochs=epochs, nz=nz,\n",
        "    )"
      ]
    },
    {
      "cell_type": "code",
      "execution_count": null,
      "metadata": {
        "id": "9vufncTY_Jma",
        "outputId": "41da21fc-b62d-4a65-abc4-c3c5d7cd273b"
      },
      "outputs": [
        {
          "data": {
            "image/png": "[encoded data removed]",
            "text/plain": [
              "<Figure size 640x480 with 1 Axes>"
            ]
          },
          "metadata": {},
          "output_type": "display_data"
        }
      ],
      "source": [
        "plt.plot(g_loss, label = 'gen loss')\n",
        "plt.plot(d_loss, label = 'disc loss')\n",
        "plt.legend()\n",
        "plt.show()"
      ]
    },
    {
      "cell_type": "code",
      "execution_count": null,
      "metadata": {
        "id": "Lx5tmIt9_Jma",
        "outputId": "d5832bab-adfa-4d0d-f1f9-0802120ccd38"
      },
      "outputs": [
        {
          "data": {
            "image/png": "[encoded data removed]",
            "text/plain": [
              "<Figure size 640x480 with 1 Axes>"
            ]
          },
          "metadata": {},
          "output_type": "display_data"
        }
      ],
      "source": [
        "plt.plot(real_score, label = 'real score')\n",
        "plt.plot(fake_score, label = 'fake score')\n",
        "plt.legend()\n",
        "plt.show()"
      ]
    },
    {
      "cell_type": "code",
      "execution_count": null,
      "metadata": {
        "id": "ixqysjBC_Jmb"
      },
      "outputs": [],
      "source": [
        "def view_samples(samples):\n",
        "    fig, axes = plt.subplots(figsize=(7,7), nrows=4, ncols=4, sharey=True, sharex=True)\n",
        "    for ax, img in zip(axes.flatten(), samples):\n",
        "        img = img.detach().cpu()\n",
        "        ax.xaxis.set_visible(False)\n",
        "        ax.yaxis.set_visible(False)\n",
        "        im = ax.imshow(img.reshape((28,28)), cmap='Greys_r')"
      ]
    },
    {
      "cell_type": "code",
      "execution_count": null,
      "metadata": {
        "id": "FFBu1afl_Jmb",
        "outputId": "4bc06d33-0900-4909-8107-ddacf1626205"
      },
      "outputs": [
        {
          "data": {
            "image/png": "[encoded data removed]",
            "text/plain": [
              "<Figure size 700x700 with 16 Axes>"
            ]
          },
          "metadata": {},
          "output_type": "display_data"
        }
      ],
      "source": [
        "sample_size = 16\n",
        "fixed_z = torch.randn(1, sample_size, nz, device=device)\n",
        "\n",
        "with torch.no_grad():\n",
        "    samples = gen(fixed_z)\n",
        "    view_samples(samples)"
      ]
    },
    {
      "cell_type": "markdown",
      "metadata": {
        "id": "rI077N5p_Jmb"
      },
      "source": [
        "Наш GAN прекрасно обучился! Посмотрим, как выглядит \"схлопнувшийся\" GAN:\n",
        "\n",
        "![collapse](\"/seminars/seminar_3/gan-collapse.jpg\")"
      ]
    },
    {
      "cell_type": "markdown",
      "metadata": {
        "id": "RAkbcYsc_Jmb"
      },
      "source": [
        "# CGAN"
      ]
    },
    {
      "cell_type": "code",
      "execution_count": null,
      "metadata": {
        "id": "qtAsYKE5_Jmb"
      },
      "outputs": [],
      "source": [
        "class Generator(nn.Module):\n",
        "    def __init__(self, nz, classes=10, hidden_dim=32, output_size=28*28):\n",
        "        super().__init__()\n",
        "        self.classes = classes\n",
        "\n",
        "        self.gen = nn.Sequential(\n",
        "            nn.Linear(nz + classes, hidden_dim),\n",
        "            nn.LeakyReLU(0.2, inplace=True),\n",
        "            nn.Linear(hidden_dim, hidden_dim*2),\n",
        "            nn.LeakyReLU(0.2, inplace=True),\n",
        "            nn.Linear(hidden_dim*2, hidden_dim*4),\n",
        "            nn.LeakyReLU(0.2, inplace=True),\n",
        "            nn.Linear(hidden_dim*4, output_size),\n",
        "            nn.Tanh(),\n",
        "        )\n",
        "\n",
        "\n",
        "    def forward(self, x, label):\n",
        "        oh = func.one_hot(label, num_classes=self.classes)\n",
        "        inp = torch.cat([x, oh], dim=1)\n",
        "        out = self.gen(inp)\n",
        "        return out"
      ]
    },
    {
      "cell_type": "code",
      "execution_count": null,
      "metadata": {
        "id": "czKqzmJd_Jmb"
      },
      "outputs": [],
      "source": [
        "class Discriminator(nn.Module):\n",
        "    def __init__(self, classes=10, input_size=28*28, hidden_dim=32, output_size=1):\n",
        "        super().__init__()\n",
        "        self.input_size = input_size\n",
        "        self.classes = classes\n",
        "\n",
        "        self.disc = nn.Sequential(\n",
        "            nn.Linear(input_size + classes, hidden_dim*4),\n",
        "            nn.LeakyReLU(0.2, inplace=True),\n",
        "            nn.Dropout(0.3),\n",
        "            nn.Linear(hidden_dim*4, hidden_dim*2),\n",
        "            nn.LeakyReLU(0.2, inplace=True),\n",
        "            nn.Dropout(0.3),\n",
        "        )\n",
        "\n",
        "        self.classifier = nn.Linear(hidden_dim*2, output_size)\n",
        "\n",
        "        self.flatten = nn.Flatten()\n",
        "        self.act = nn.Sigmoid()\n",
        "\n",
        "\n",
        "    def forward(self, x, label):\n",
        "        oh = func.one_hot(label, num_classes=self.classes)\n",
        "        x = x.view(-1, self.input_size)\n",
        "\n",
        "        inp = torch.cat([x, oh], dim=1)\n",
        "        inp = self.disc(inp)\n",
        "\n",
        "        inp = self.classifier(inp)\n",
        "        inp = self.act(inp)\n",
        "        return inp"
      ]
    },
    {
      "cell_type": "code",
      "execution_count": null,
      "metadata": {
        "id": "75Anwlap_Jmb"
      },
      "outputs": [],
      "source": [
        "def _train_cgenerator(batch, labels, gen, disc, nz, gen_loss, gen_opt, device):\n",
        "    gen_opt.zero_grad()\n",
        "\n",
        "    noise = torch.randn(batch.shape[0], nz, device=device)\n",
        "    fake_img = gen(noise, labels)\n",
        "    fake_preds = disc(fake_img, labels)\n",
        "    targets = torch.ones(batch.shape[0], 1, device=device)\n",
        "\n",
        "    g_loss = gen_loss(fake_preds, targets)\n",
        "    g_loss.backward()\n",
        "    gen_opt.step()\n",
        "\n",
        "    return g_loss"
      ]
    },
    {
      "cell_type": "code",
      "execution_count": null,
      "metadata": {
        "id": "anpiQEu9_Jmc"
      },
      "outputs": [],
      "source": [
        "def _train_cdiscriminator(batch, labels, gen, disc, nz, disc_loss, disc_opt, device):\n",
        "    #training discriminator\n",
        "    disc_opt.zero_grad()\n",
        "\n",
        "    real_preds = disc(batch, labels)\n",
        "    real_targets = 0.9 * torch.ones(batch.shape[0], 1, device=device)\n",
        "    real_loss = disc_loss(real_preds, real_targets)\n",
        "\n",
        "    #generate fake images\n",
        "    noise = torch.randn(batch.shape[0], nz, device=device)\n",
        "    fake_img = gen(noise, labels)\n",
        "\n",
        "    fake_preds = disc(fake_img, labels)\n",
        "    fake_targets = torch.zeros(batch.shape[0], 1, device=device)\n",
        "    fake_loss = disc_loss(fake_preds, fake_targets)\n",
        "\n",
        "    d_loss = real_loss + fake_loss\n",
        "    d_loss.backward()\n",
        "    disc_opt.step()\n",
        "\n",
        "    return real_loss, fake_loss, d_loss"
      ]
    },
    {
      "cell_type": "code",
      "execution_count": null,
      "metadata": {
        "id": "Gwl5r53m_Jmc"
      },
      "outputs": [],
      "source": [
        "def train_cgan(gen, gen_loss, gen_opt,\n",
        "              disc, disc_loss, disc_opt,\n",
        "              dataloader, device='cpu', epochs=1, nz=32):\n",
        "    print(device)\n",
        "    device = torch.device(device)\n",
        "\n",
        "    gen.train()\n",
        "    disc.train()\n",
        "\n",
        "    gen_loss.to(device)\n",
        "    disc_loss.to(device)\n",
        "\n",
        "    gen.to(device)\n",
        "    disc.to(device)\n",
        "\n",
        "    losses_d = []\n",
        "    losses_g = []\n",
        "    real_scores = []\n",
        "    fake_scores = []\n",
        "\n",
        "    for epoch in range(epochs):\n",
        "\n",
        "        losses_d_running = []\n",
        "        losses_g_running = []\n",
        "        real_scores_running = []\n",
        "        fake_scores_running = []\n",
        "\n",
        "        for index, batch in enumerate(tqdm(dataloader)):\n",
        "            input_, labels = batch\n",
        "\n",
        "            input_ = input_.to(device)\n",
        "            labels = labels.to(device)\n",
        "\n",
        "            real_loss, fake_loss, d_loss = _train_cdiscriminator(\n",
        "                input_,\n",
        "                labels,\n",
        "                gen=gen,\n",
        "                disc=disc,\n",
        "                nz=nz,\n",
        "                disc_loss=disc_loss,\n",
        "                disc_opt=disc_opt,\n",
        "                device=device,\n",
        "            )\n",
        "\n",
        "            losses_d_running.append(d_loss.item())\n",
        "\n",
        "            real_score, fake_score = _count_scores(real_loss, fake_loss)\n",
        "\n",
        "\n",
        "            real_scores_running.append(real_score)\n",
        "            fake_scores_running.append(fake_score)\n",
        "\n",
        "            if index % 4 == 0:\n",
        "                #training generator\n",
        "                g_loss = _train_cgenerator(\n",
        "                    input_,\n",
        "                    labels,\n",
        "                    gen=gen,\n",
        "                    disc=disc,\n",
        "                    nz=nz,\n",
        "                    gen_loss=gen_loss,\n",
        "                    gen_opt=gen_opt,\n",
        "                    device=device,\n",
        "                )\n",
        "\n",
        "                losses_g_running.append(g_loss.item())\n",
        "\n",
        "        losses_g.append(np.mean(losses_g_running))\n",
        "        losses_d.append(np.mean(losses_d_running))\n",
        "        real_scores.append(np.mean(real_scores_running))\n",
        "        fake_scores.append(np.mean(fake_scores_running))\n",
        "        print(\"Epoch [{}/{}], loss_g: {:.4f}, loss_d: {:.4f}, real_score: {:.4f}, fake_score: {:.4f}\".format(\n",
        "            epoch+1, epochs,\n",
        "            losses_g[-1], losses_d[-1], real_scores[-1], fake_scores[-1])\n",
        "        )\n",
        "    return losses_g, losses_d, real_scores, fake_scores"
      ]
    },
    {
      "cell_type": "code",
      "execution_count": null,
      "metadata": {
        "id": "ya8NWs0G_Jmc"
      },
      "outputs": [],
      "source": [
        "cgen_loss = nn.BCELoss()\n",
        "cdisc_loss = nn.BCELoss()\n",
        "\n",
        "device = 'mps'"
      ]
    },
    {
      "cell_type": "code",
      "execution_count": null,
      "metadata": {
        "id": "ZcwWNpDk_Jmc"
      },
      "outputs": [],
      "source": [
        "hidden_dim = 32\n",
        "nz = 32\n",
        "epochs=15\n",
        "\n",
        "cdisc = Discriminator(hidden_dim=hidden_dim)\n",
        "cgen = Generator(nz, hidden_dim=hidden_dim)\n",
        "\n",
        "cdisc_optim = torch.optim.Adam(cdisc.parameters(), lr=1*10e-4)\n",
        "cgen_optim = torch.optim.Adam(cgen.parameters(), lr=1*10e-4)"
      ]
    },
    {
      "cell_type": "code",
      "execution_count": null,
      "metadata": {
        "id": "7xf0BaNb_Jmc",
        "outputId": "fa1b80a6-7607-4b97-9cda-749e4e1eff36"
      },
      "outputs": [
        {
          "name": "stdout",
          "output_type": "stream",
          "text": [
            "mps\n"
          ]
        },
        {
          "name": "stderr",
          "output_type": "stream",
          "text": [
            "100%|██████████| 1875/1875 [00:22<00:00, 82.55it/s]\n"
          ]
        },
        {
          "name": "stdout",
          "output_type": "stream",
          "text": [
            "Epoch [1/15], loss_g: 7.3530, loss_d: 0.3686, real_score: 0.3496, fake_score: 0.0189\n"
          ]
        },
        {
          "name": "stderr",
          "output_type": "stream",
          "text": [
            "100%|██████████| 1875/1875 [00:22<00:00, 83.03it/s]\n"
          ]
        },
        {
          "name": "stdout",
          "output_type": "stream",
          "text": [
            "Epoch [2/15], loss_g: 6.5836, loss_d: 0.3614, real_score: 0.3528, fake_score: 0.0087\n"
          ]
        },
        {
          "name": "stderr",
          "output_type": "stream",
          "text": [
            "100%|██████████| 1875/1875 [00:23<00:00, 78.99it/s]\n"
          ]
        },
        {
          "name": "stdout",
          "output_type": "stream",
          "text": [
            "Epoch [3/15], loss_g: 6.5647, loss_d: 0.3696, real_score: 0.3573, fake_score: 0.0123\n"
          ]
        },
        {
          "name": "stderr",
          "output_type": "stream",
          "text": [
            "100%|██████████| 1875/1875 [00:22<00:00, 81.63it/s]\n"
          ]
        },
        {
          "name": "stdout",
          "output_type": "stream",
          "text": [
            "Epoch [4/15], loss_g: 5.9911, loss_d: 0.4092, real_score: 0.3809, fake_score: 0.0282\n"
          ]
        },
        {
          "name": "stderr",
          "output_type": "stream",
          "text": [
            "100%|██████████| 1875/1875 [00:23<00:00, 81.43it/s]\n"
          ]
        },
        {
          "name": "stdout",
          "output_type": "stream",
          "text": [
            "Epoch [5/15], loss_g: 5.1828, loss_d: 0.4834, real_score: 0.4209, fake_score: 0.0624\n"
          ]
        },
        {
          "name": "stderr",
          "output_type": "stream",
          "text": [
            "100%|██████████| 1875/1875 [00:23<00:00, 81.03it/s]\n"
          ]
        },
        {
          "name": "stdout",
          "output_type": "stream",
          "text": [
            "Epoch [6/15], loss_g: 4.5124, loss_d: 0.5364, real_score: 0.4478, fake_score: 0.0886\n"
          ]
        },
        {
          "name": "stderr",
          "output_type": "stream",
          "text": [
            "100%|██████████| 1875/1875 [00:24<00:00, 76.28it/s]\n"
          ]
        },
        {
          "name": "stdout",
          "output_type": "stream",
          "text": [
            "Epoch [7/15], loss_g: 3.8803, loss_d: 0.5964, real_score: 0.4772, fake_score: 0.1192\n"
          ]
        },
        {
          "name": "stderr",
          "output_type": "stream",
          "text": [
            "100%|██████████| 1875/1875 [00:24<00:00, 76.86it/s]\n"
          ]
        },
        {
          "name": "stdout",
          "output_type": "stream",
          "text": [
            "Epoch [8/15], loss_g: 3.5565, loss_d: 0.6561, real_score: 0.5020, fake_score: 0.1541\n"
          ]
        },
        {
          "name": "stderr",
          "output_type": "stream",
          "text": [
            "100%|██████████| 1875/1875 [00:23<00:00, 78.51it/s]\n"
          ]
        },
        {
          "name": "stdout",
          "output_type": "stream",
          "text": [
            "Epoch [9/15], loss_g: 3.1542, loss_d: 0.7159, real_score: 0.5305, fake_score: 0.1853\n"
          ]
        },
        {
          "name": "stderr",
          "output_type": "stream",
          "text": [
            "100%|██████████| 1875/1875 [00:23<00:00, 80.63it/s]\n"
          ]
        },
        {
          "name": "stdout",
          "output_type": "stream",
          "text": [
            "Epoch [10/15], loss_g: 3.0195, loss_d: 0.7345, real_score: 0.5364, fake_score: 0.1981\n"
          ]
        },
        {
          "name": "stderr",
          "output_type": "stream",
          "text": [
            "100%|██████████| 1875/1875 [00:24<00:00, 77.28it/s]\n"
          ]
        },
        {
          "name": "stdout",
          "output_type": "stream",
          "text": [
            "Epoch [11/15], loss_g: 2.7828, loss_d: 0.7678, real_score: 0.5524, fake_score: 0.2154\n"
          ]
        },
        {
          "name": "stderr",
          "output_type": "stream",
          "text": [
            "100%|██████████| 1875/1875 [00:23<00:00, 78.90it/s]\n"
          ]
        },
        {
          "name": "stdout",
          "output_type": "stream",
          "text": [
            "Epoch [12/15], loss_g: 2.8580, loss_d: 0.7560, real_score: 0.5476, fake_score: 0.2084\n"
          ]
        },
        {
          "name": "stderr",
          "output_type": "stream",
          "text": [
            "100%|██████████| 1875/1875 [00:24<00:00, 76.97it/s]\n"
          ]
        },
        {
          "name": "stdout",
          "output_type": "stream",
          "text": [
            "Epoch [13/15], loss_g: 2.6107, loss_d: 0.8068, real_score: 0.5688, fake_score: 0.2381\n"
          ]
        },
        {
          "name": "stderr",
          "output_type": "stream",
          "text": [
            "100%|██████████| 1875/1875 [00:24<00:00, 76.64it/s]\n"
          ]
        },
        {
          "name": "stdout",
          "output_type": "stream",
          "text": [
            "Epoch [14/15], loss_g: 2.4574, loss_d: 0.8372, real_score: 0.5822, fake_score: 0.2550\n"
          ]
        },
        {
          "name": "stderr",
          "output_type": "stream",
          "text": [
            "100%|██████████| 1875/1875 [00:23<00:00, 80.57it/s]"
          ]
        },
        {
          "name": "stdout",
          "output_type": "stream",
          "text": [
            "Epoch [15/15], loss_g: 2.2536, loss_d: 0.8836, real_score: 0.5979, fake_score: 0.2857\n"
          ]
        },
        {
          "name": "stderr",
          "output_type": "stream",
          "text": [
            "\n"
          ]
        }
      ],
      "source": [
        "g_loss, d_loss, real_score, fake_score = train_cgan(\n",
        "    cgen, cgen_loss, cgen_optim,\n",
        "    cdisc, cdisc_loss, cdisc_optim,\n",
        "    dataloader, device, epochs=epochs, nz=nz,\n",
        "    )"
      ]
    },
    {
      "cell_type": "code",
      "execution_count": null,
      "metadata": {
        "id": "86TAEBSH_Jmc",
        "outputId": "c7e3ab84-0cd1-41c7-f7c2-cfc3d70fff57"
      },
      "outputs": [
        {
          "data": {
            "image/png": "[encoded data removed]",
            "text/plain": [
              "<Figure size 640x480 with 1 Axes>"
            ]
          },
          "metadata": {},
          "output_type": "display_data"
        }
      ],
      "source": [
        "plt.plot(g_loss, label = 'gen loss')\n",
        "plt.plot(d_loss, label = 'disc loss')\n",
        "plt.legend()\n",
        "plt.show()"
      ]
    },
    {
      "cell_type": "code",
      "execution_count": null,
      "metadata": {
        "id": "bc_2OBph_Jmd",
        "outputId": "8b355cb2-cf0c-4fdd-cf7d-a7b58e52c734"
      },
      "outputs": [
        {
          "data": {
            "image/png": "[encoded data removed]",
            "text/plain": [
              "<Figure size 640x480 with 1 Axes>"
            ]
          },
          "metadata": {},
          "output_type": "display_data"
        }
      ],
      "source": [
        "plt.plot(real_score, label = 'real score')\n",
        "plt.plot(fake_score, label = 'fake score')\n",
        "plt.legend()\n",
        "plt.show()"
      ]
    },
    {
      "cell_type": "code",
      "execution_count": null,
      "metadata": {
        "id": "jzItkPsf_Jmd"
      },
      "outputs": [],
      "source": [
        "# helper function for viewing a list of passed in sample images\n",
        "def view_samples(samples):\n",
        "    fig, axes = plt.subplots(figsize=(7,7), nrows=4, ncols=4, sharey=True, sharex=True)\n",
        "    for ax, img in zip(axes.flatten(), samples):\n",
        "        img = img.detach().cpu()\n",
        "        ax.xaxis.set_visible(False)\n",
        "        ax.yaxis.set_visible(False)\n",
        "        im = ax.imshow(img.reshape((28,28)), cmap='Greys_r')"
      ]
    },
    {
      "cell_type": "code",
      "execution_count": null,
      "metadata": {
        "id": "i11SxBeM_Jmd",
        "outputId": "3deb187c-d326-4c2c-d895-29d23d2b0b33"
      },
      "outputs": [
        {
          "data": {
            "image/png": "[encoded data removed]",
            "text/plain": [
              "<Figure size 700x700 with 16 Axes>"
            ]
          },
          "metadata": {},
          "output_type": "display_data"
        }
      ],
      "source": [
        "sample_size = 16\n",
        "fixed_z = torch.randn(sample_size, nz, device=device)\n",
        "y = torch.tensor(np.random.randint(0, 10, size=(sample_size)))\n",
        "\n",
        "with torch.no_grad():\n",
        "    fixed_z = fixed_z.to('mps')\n",
        "    y = y.to('mps')\n",
        "    samples = cgen(fixed_z, y)\n",
        "    view_samples(samples)"
      ]
    },
    {
      "cell_type": "code",
      "execution_count": null,
      "metadata": {
        "id": "KX2wiE9S_Jmd"
      },
      "outputs": [],
      "source": []
    }
  ],
  "metadata": {
    "colab": {
      "provenance": []
    },
    "kernelspec": {
      "display_name": "itmo_dl",
      "language": "python",
      "name": "python3"
    },
    "language_info": {
      "codemirror_mode": {
        "name": "ipython",
        "version": 3
      },
      "file_extension": ".py",
      "mimetype": "text/x-python",
      "name": "python",
      "nbconvert_exporter": "python",
      "pygments_lexer": "ipython3",
      "version": "3.10.13"
    }
  },
  "nbformat": 4,
  "nbformat_minor": 0
}
