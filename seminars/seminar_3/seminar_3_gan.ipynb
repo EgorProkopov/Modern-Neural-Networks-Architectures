{
 "cells": [
  {
   "cell_type": "code",
   "execution_count": 1,
   "metadata": {},
   "outputs": [],
   "source": [
    "import numpy as np\n",
    "import matplotlib.pyplot as plt\n",
    "from PIL import Image\n",
    "from tqdm import tqdm\n",
    "\n",
    "import torch\n",
    "import torch.nn as nn\n",
    "import torchvision\n",
    "from torch.nn import functional as func\n",
    "from torch.utils.data import DataLoader\n",
    "import torchvision.transforms as transforms\n",
    "\n",
    "from torchsummary import summary"
   ]
  },
  {
   "cell_type": "code",
   "execution_count": 2,
   "metadata": {},
   "outputs": [
    {
     "data": {
      "text/plain": [
       "<torch._C.Generator at 0x10d853710>"
      ]
     },
     "execution_count": 2,
     "metadata": {},
     "output_type": "execute_result"
    }
   ],
   "source": [
    "torch.manual_seed(666)"
   ]
  },
  {
   "cell_type": "markdown",
   "metadata": {},
   "source": [
    "# Dataset"
   ]
  },
  {
   "cell_type": "code",
   "execution_count": 3,
   "metadata": {},
   "outputs": [
    {
     "name": "stdout",
     "output_type": "stream",
     "text": [
      "Downloading http://fashion-mnist.s3-website.eu-central-1.amazonaws.com/train-images-idx3-ubyte.gz\n",
      "Downloading http://fashion-mnist.s3-website.eu-central-1.amazonaws.com/train-images-idx3-ubyte.gz to ./data/FashionMNIST/raw/train-images-idx3-ubyte.gz\n"
     ]
    },
    {
     "name": "stderr",
     "output_type": "stream",
     "text": [
      "100%|██████████| 26421880/26421880 [00:09<00:00, 2713281.96it/s]\n"
     ]
    },
    {
     "name": "stdout",
     "output_type": "stream",
     "text": [
      "Extracting ./data/FashionMNIST/raw/train-images-idx3-ubyte.gz to ./data/FashionMNIST/raw\n",
      "\n",
      "Downloading http://fashion-mnist.s3-website.eu-central-1.amazonaws.com/train-labels-idx1-ubyte.gz\n",
      "Downloading http://fashion-mnist.s3-website.eu-central-1.amazonaws.com/train-labels-idx1-ubyte.gz to ./data/FashionMNIST/raw/train-labels-idx1-ubyte.gz\n"
     ]
    },
    {
     "name": "stderr",
     "output_type": "stream",
     "text": [
      "100%|██████████| 29515/29515 [00:00<00:00, 944083.85it/s]\n"
     ]
    },
    {
     "name": "stdout",
     "output_type": "stream",
     "text": [
      "Extracting ./data/FashionMNIST/raw/train-labels-idx1-ubyte.gz to ./data/FashionMNIST/raw\n",
      "\n",
      "Downloading http://fashion-mnist.s3-website.eu-central-1.amazonaws.com/t10k-images-idx3-ubyte.gz\n",
      "Downloading http://fashion-mnist.s3-website.eu-central-1.amazonaws.com/t10k-images-idx3-ubyte.gz to ./data/FashionMNIST/raw/t10k-images-idx3-ubyte.gz\n"
     ]
    },
    {
     "name": "stderr",
     "output_type": "stream",
     "text": [
      "100%|██████████| 4422102/4422102 [00:01<00:00, 2776007.29it/s]\n"
     ]
    },
    {
     "name": "stdout",
     "output_type": "stream",
     "text": [
      "Extracting ./data/FashionMNIST/raw/t10k-images-idx3-ubyte.gz to ./data/FashionMNIST/raw\n",
      "\n",
      "Downloading http://fashion-mnist.s3-website.eu-central-1.amazonaws.com/t10k-labels-idx1-ubyte.gz\n",
      "Downloading http://fashion-mnist.s3-website.eu-central-1.amazonaws.com/t10k-labels-idx1-ubyte.gz to ./data/FashionMNIST/raw/t10k-labels-idx1-ubyte.gz\n"
     ]
    },
    {
     "name": "stderr",
     "output_type": "stream",
     "text": [
      "100%|██████████| 5148/5148 [00:00<00:00, 4963741.84it/s]"
     ]
    },
    {
     "name": "stdout",
     "output_type": "stream",
     "text": [
      "Extracting ./data/FashionMNIST/raw/t10k-labels-idx1-ubyte.gz to ./data/FashionMNIST/raw\n",
      "\n"
     ]
    },
    {
     "name": "stderr",
     "output_type": "stream",
     "text": [
      "\n"
     ]
    }
   ],
   "source": [
    "# Define the transformation\n",
    "transform = transforms.Compose([\n",
    "    transforms.ToTensor(),\n",
    "    transforms.Normalize(\n",
    "        mean=0.5,\n",
    "        std=0.5\n",
    "    )\n",
    "])\n",
    "\n",
    "# Load the dataset\n",
    "train_dataset = torchvision.datasets.FashionMNIST(root='./data', train=True, download=True, transform=transform)"
   ]
  },
  {
   "cell_type": "code",
   "execution_count": 4,
   "metadata": {},
   "outputs": [],
   "source": [
    "dataloader = DataLoader(train_dataset, batch_size=32, shuffle=True)"
   ]
  },
  {
   "cell_type": "markdown",
   "metadata": {},
   "source": [
    "# Training"
   ]
  },
  {
   "cell_type": "markdown",
   "metadata": {},
   "source": [
    "Обучим линейный генератор для датасета fashionMnist"
   ]
  },
  {
   "cell_type": "code",
   "execution_count": 5,
   "metadata": {},
   "outputs": [],
   "source": [
    "class Generator(nn.Module):\n",
    "    def __init__(self, nz, hidden_dim=32, output_size=28*28):\n",
    "        super().__init__()\n",
    "        \n",
    "        self.gen = nn.Sequential(\n",
    "            nn.Linear(nz, hidden_dim),\n",
    "            nn.LeakyReLU(0.2, inplace=True),\n",
    "            nn.Linear(hidden_dim, hidden_dim*2),\n",
    "            nn.LeakyReLU(0.2, inplace=True),\n",
    "            nn.Linear(hidden_dim*2, hidden_dim*4),\n",
    "            nn.LeakyReLU(0.2, inplace=True),\n",
    "            nn.Linear(hidden_dim*4, output_size),\n",
    "            nn.Tanh(),\n",
    "        )\n",
    "        \n",
    "    \n",
    "    def forward(self, x):\n",
    "        x = self.gen(x)\n",
    "        return x"
   ]
  },
  {
   "cell_type": "code",
   "execution_count": 6,
   "metadata": {},
   "outputs": [],
   "source": [
    "class Discriminator(nn.Module):\n",
    "    def __init__(self, input_size=28*28, hidden_dim=32, output_size=1):\n",
    "        super().__init__()\n",
    "        self.input_size = input_size\n",
    "\n",
    "        self.disc = nn.Sequential(\n",
    "            nn.Linear(input_size, hidden_dim*4),\n",
    "            nn.LeakyReLU(0.2, inplace=True),\n",
    "            nn.Dropout(0.3),\n",
    "            nn.Linear(hidden_dim*4, hidden_dim*2),\n",
    "            nn.LeakyReLU(0.2, inplace=True),\n",
    "            nn.Dropout(0.3),\n",
    "        )\n",
    "        \n",
    "        self.classifier = nn.Linear(hidden_dim*2, output_size)\n",
    "        \n",
    "        self.act = nn.Sigmoid()\n",
    "\n",
    "\n",
    "    def forward(self, x):\n",
    "        x = x.view(-1, self.input_size)\n",
    "        x = self.disc(x)\n",
    "\n",
    "        x = self.classifier(x)\n",
    "        x = self.act(x)\n",
    "        return x"
   ]
  },
  {
   "cell_type": "code",
   "execution_count": 7,
   "metadata": {},
   "outputs": [
    {
     "name": "stdout",
     "output_type": "stream",
     "text": [
      "----------------------------------------------------------------\n",
      "        Layer (type)               Output Shape         Param #\n",
      "================================================================\n",
      "            Linear-1                  [-1, 128]         100,480\n",
      "         LeakyReLU-2                  [-1, 128]               0\n",
      "           Dropout-3                  [-1, 128]               0\n",
      "            Linear-4                   [-1, 64]           8,256\n",
      "         LeakyReLU-5                   [-1, 64]               0\n",
      "           Dropout-6                   [-1, 64]               0\n",
      "            Linear-7                    [-1, 1]              65\n",
      "           Sigmoid-8                    [-1, 1]               0\n",
      "================================================================\n",
      "Total params: 108,801\n",
      "Trainable params: 108,801\n",
      "Non-trainable params: 0\n",
      "----------------------------------------------------------------\n",
      "Input size (MB): 0.00\n",
      "Forward/backward pass size (MB): 0.00\n",
      "Params size (MB): 0.42\n",
      "Estimated Total Size (MB): 0.42\n",
      "----------------------------------------------------------------\n"
     ]
    }
   ],
   "source": [
    "summary(Discriminator(), (1, 28*28))"
   ]
  },
  {
   "cell_type": "code",
   "execution_count": 8,
   "metadata": {},
   "outputs": [],
   "source": [
    "def _train_generator(batch, gen, disc, nz, gen_loss, gen_opt, device):\n",
    "    gen_opt.zero_grad()\n",
    "\n",
    "    noise = torch.randn(batch.shape[0], 1, nz, device=device)\n",
    "    fake_img = gen(noise)    \n",
    "    fake_preds = disc(fake_img)\n",
    "    targets = torch.ones(batch.shape[0], 1, device=device)\n",
    "\n",
    "    g_loss = gen_loss(fake_preds, targets)\n",
    "    g_loss.backward()\n",
    "    gen_opt.step()\n",
    "\n",
    "    return g_loss"
   ]
  },
  {
   "cell_type": "code",
   "execution_count": 9,
   "metadata": {},
   "outputs": [],
   "source": [
    "def _train_discriminator(batch, gen, disc, nz, disc_loss, disc_opt, device):\n",
    "    #training discriminator\n",
    "    disc_opt.zero_grad()\n",
    "\n",
    "    real_preds = disc(batch)\n",
    "    real_targets = 0.9 * torch.ones(batch.shape[0], 1, device=device)\n",
    "    real_loss = disc_loss(real_preds, real_targets)\n",
    "    \n",
    "    #generate fake images\n",
    "    noise = torch.randn(batch.shape[0], 1, nz, device=device)\n",
    "    fake_img = gen(noise)\n",
    "\n",
    "    fake_preds = disc(fake_img)\n",
    "    fake_targets = torch.zeros(batch.shape[0], 1, device=device)\n",
    "    fake_loss = disc_loss(fake_preds, fake_targets)\n",
    "\n",
    "    d_loss = real_loss + fake_loss\n",
    "    d_loss.backward()\n",
    "    disc_opt.step()\n",
    "\n",
    "    return real_loss, fake_loss, d_loss"
   ]
  },
  {
   "cell_type": "code",
   "execution_count": 10,
   "metadata": {},
   "outputs": [],
   "source": [
    "def _count_scores(real_loss, fake_loss):\n",
    "    real_score = real_loss.mean().item()\n",
    "    fake_score = fake_loss.mean().item()\n",
    "    return real_score, fake_score"
   ]
  },
  {
   "cell_type": "code",
   "execution_count": 11,
   "metadata": {},
   "outputs": [],
   "source": [
    "def train_gan(gen, gen_loss, gen_opt,\n",
    "              disc, disc_loss, disc_opt,\n",
    "              dataloader, device='cpu', epochs=1, nz=32):\n",
    "    print(device)\n",
    "    device = torch.device(device)\n",
    "    \n",
    "    gen.train()\n",
    "    disc.train()\n",
    "    \n",
    "    gen_loss.to(device)\n",
    "    disc_loss.to(device)\n",
    "    \n",
    "    gen.to(device)\n",
    "    disc.to(device)\n",
    "    \n",
    "    losses_d = []\n",
    "    losses_g = []\n",
    "    real_scores = []\n",
    "    fake_scores = []\n",
    "    \n",
    "    for epoch in range(epochs):\n",
    "\n",
    "        losses_d_running = []\n",
    "        losses_g_running = []\n",
    "        real_scores_running = []\n",
    "        fake_scores_running = []\n",
    "        \n",
    "        for index, batch in enumerate(tqdm(dataloader)):\n",
    "            input_, _ = batch\n",
    "\n",
    "            input_ = input_.to(device)\n",
    "\n",
    "            real_loss, fake_loss, d_loss = _train_discriminator(\n",
    "                input_,\n",
    "                gen=gen,\n",
    "                disc=disc,\n",
    "                nz=nz,\n",
    "                disc_loss=disc_loss,\n",
    "                disc_opt=disc_opt,\n",
    "                device=device, \n",
    "            )\n",
    "\n",
    "            losses_d_running.append(d_loss.item())\n",
    "\n",
    "            real_score, fake_score = _count_scores(real_loss, fake_loss)\n",
    "\n",
    "            \n",
    "            real_scores_running.append(real_score)\n",
    "            fake_scores_running.append(fake_score)\n",
    "            \n",
    "            if index % 4 == 0:\n",
    "                #training generator\n",
    "                g_loss = _train_generator(\n",
    "                    input_,\n",
    "                    gen=gen,\n",
    "                    disc=disc,\n",
    "                    nz=nz,\n",
    "                    gen_loss=gen_loss,\n",
    "                    gen_opt=gen_opt,\n",
    "                    device=device, \n",
    "                )\n",
    "\n",
    "                losses_g_running.append(g_loss.item())\n",
    "        \n",
    "        losses_g.append(np.mean(losses_g_running))\n",
    "        losses_d.append(np.mean(losses_d_running))\n",
    "        real_scores.append(np.mean(real_scores_running))\n",
    "        fake_scores.append(np.mean(fake_scores_running))\n",
    "        print(\"Epoch [{}/{}], loss_g: {:.4f}, loss_d: {:.4f}, real_score: {:.4f}, fake_score: {:.4f}\".format(\n",
    "            epoch+1, epochs,\n",
    "            losses_g[-1], losses_d[-1], real_scores[-1], fake_scores[-1])\n",
    "        )\n",
    "    return losses_g, losses_d, real_scores, fake_scores"
   ]
  },
  {
   "cell_type": "code",
   "execution_count": 12,
   "metadata": {},
   "outputs": [],
   "source": [
    "gen_loss = nn.BCELoss()\n",
    "disc_loss = nn.BCELoss()\n",
    "\n",
    "device = 'mps'"
   ]
  },
  {
   "cell_type": "code",
   "execution_count": 13,
   "metadata": {},
   "outputs": [],
   "source": [
    "hidden_dim = 32\n",
    "nz = 32\n",
    "epochs = 15\n",
    "\n",
    "disc = Discriminator(hidden_dim=hidden_dim)\n",
    "gen = Generator(nz, hidden_dim=hidden_dim)\n",
    "\n",
    "disc_optim = torch.optim.Adam(disc.parameters(), lr=1*10e-4)\n",
    "gen_optim = torch.optim.Adam(gen.parameters(), lr=1*10e-4)"
   ]
  },
  {
   "cell_type": "code",
   "execution_count": null,
   "metadata": {},
   "outputs": [
    {
     "name": "stdout",
     "output_type": "stream",
     "text": [
      "mps\n"
     ]
    },
    {
     "name": "stderr",
     "output_type": "stream",
     "text": [
      "100%|██████████| 1875/1875 [00:21<00:00, 86.29it/s]\n"
     ]
    },
    {
     "name": "stdout",
     "output_type": "stream",
     "text": [
      "Epoch [1/15], loss_g: 7.1022, loss_d: 0.3694, real_score: 0.3469, fake_score: 0.0225\n"
     ]
    },
    {
     "name": "stderr",
     "output_type": "stream",
     "text": [
      "100%|██████████| 1875/1875 [00:20<00:00, 90.15it/s]\n"
     ]
    },
    {
     "name": "stdout",
     "output_type": "stream",
     "text": [
      "Epoch [2/15], loss_g: 6.3112, loss_d: 0.3645, real_score: 0.3552, fake_score: 0.0094\n"
     ]
    },
    {
     "name": "stderr",
     "output_type": "stream",
     "text": [
      " 18%|█▊        | 341/1875 [00:04<00:17, 88.37it/s]"
     ]
    }
   ],
   "source": [
    "g_loss, d_loss, real_score, fake_score = train_gan(\n",
    "    gen, gen_loss, gen_optim,\n",
    "    disc, disc_loss, disc_optim,\n",
    "    dataloader, device, epochs=epochs, nz=nz,\n",
    "    )"
   ]
  },
  {
   "cell_type": "code",
   "execution_count": 16,
   "metadata": {},
   "outputs": [
    {
     "data": {
      "image/png": "[encoded data removed]",
      "text/plain": [
       "<Figure size 640x480 with 1 Axes>"
      ]
     },
     "metadata": {},
     "output_type": "display_data"
    }
   ],
   "source": [
    "plt.plot(g_loss, label = 'gen loss')\n",
    "plt.plot(d_loss, label = 'disc loss')\n",
    "plt.legend()\n",
    "plt.show()"
   ]
  },
  {
   "cell_type": "code",
   "execution_count": 17,
   "metadata": {},
   "outputs": [
    {
     "data": {
      "image/png": "[encoded data removed]",
      "text/plain": [
       "<Figure size 640x480 with 1 Axes>"
      ]
     },
     "metadata": {},
     "output_type": "display_data"
    }
   ],
   "source": [
    "plt.plot(real_score, label = 'real score')\n",
    "plt.plot(fake_score, label = 'fake score')\n",
    "plt.legend()\n",
    "plt.show()"
   ]
  },
  {
   "cell_type": "code",
   "execution_count": 18,
   "metadata": {},
   "outputs": [],
   "source": [
    "# helper function for viewing a list of passed in sample images\n",
    "def view_samples(epoch, samples):\n",
    "    fig, axes = plt.subplots(figsize=(7,7), nrows=4, ncols=4, sharey=True, sharex=True)\n",
    "    for ax, img in zip(axes.flatten(), samples[epoch]):\n",
    "        img = img.detach().cpu()\n",
    "        ax.xaxis.set_visible(False)\n",
    "        ax.yaxis.set_visible(False)\n",
    "        im = ax.imshow(img.reshape((28,28)), cmap='Greys_r')"
   ]
  },
  {
   "cell_type": "code",
   "execution_count": 19,
   "metadata": {},
   "outputs": [
    {
     "data": {
      "image/png": "[encoded data removed]",
      "text/plain": [
       "<Figure size 700x700 with 16 Axes>"
      ]
     },
     "metadata": {},
     "output_type": "display_data"
    }
   ],
   "source": [
    "sample_size = 16\n",
    "fixed_z = torch.randn(1, sample_size, nz, device=device)\n",
    "\n",
    "with torch.no_grad():\n",
    "\n",
    "    samples = gen(fixed_z)\n",
    "    view_samples(-1, samples)"
   ]
  },
  {
   "cell_type": "markdown",
   "metadata": {},
   "source": [
    "Наш GAN прекрасно обучился! Посмотрим, как выглядит \"схлопнувшийся\" GAN:\n",
    "\n",
    "![collapse](\"/seminars/seminar_3/gan-collapse.jpg\")"
   ]
  },
  {
   "cell_type": "markdown",
   "metadata": {},
   "source": [
    "# CGAN"
   ]
  },
  {
   "cell_type": "code",
   "execution_count": 20,
   "metadata": {},
   "outputs": [],
   "source": [
    "class Generator(nn.Module):\n",
    "    def __init__(self, nz, classes=10, hidden_dim=32, output_size=28*28):\n",
    "        super().__init__()\n",
    "        self.classes = classes\n",
    "        \n",
    "        self.gen = nn.Sequential(\n",
    "            nn.Linear(nz + classes, hidden_dim),\n",
    "            nn.LeakyReLU(0.2, inplace=True),\n",
    "            nn.Linear(hidden_dim, hidden_dim*2),\n",
    "            nn.LeakyReLU(0.2, inplace=True),\n",
    "            nn.Linear(hidden_dim*2, hidden_dim*4),\n",
    "            nn.LeakyReLU(0.2, inplace=True),\n",
    "            nn.Linear(hidden_dim*4, output_size),\n",
    "            nn.Tanh(),\n",
    "        )\n",
    "        \n",
    "    \n",
    "    def forward(self, x, label):\n",
    "        oh = func.one_hot(label, num_classes=self.classes)\n",
    "        inp = torch.cat([x, oh], dim=1)\n",
    "        out = self.gen(inp)\n",
    "        return out"
   ]
  },
  {
   "cell_type": "code",
   "execution_count": 21,
   "metadata": {},
   "outputs": [],
   "source": [
    "class Discriminator(nn.Module):\n",
    "    def __init__(self, classes=10, input_size=28*28, hidden_dim=32, output_size=1):\n",
    "        super().__init__()\n",
    "        self.input_size = input_size\n",
    "        self.classes = classes\n",
    "\n",
    "        self.disc = nn.Sequential(\n",
    "            nn.Linear(input_size + classes, hidden_dim*4),\n",
    "            nn.LeakyReLU(0.2, inplace=True),\n",
    "            nn.Dropout(0.3),\n",
    "            nn.Linear(hidden_dim*4, hidden_dim*2),\n",
    "            nn.LeakyReLU(0.2, inplace=True),\n",
    "            nn.Dropout(0.3),\n",
    "        )\n",
    "        \n",
    "        self.classifier = nn.Linear(hidden_dim*2, output_size)\n",
    "        \n",
    "        self.flatten = nn.Flatten()\n",
    "        self.act = nn.Sigmoid()\n",
    "\n",
    "\n",
    "    def forward(self, x, label):\n",
    "        oh = func.one_hot(label, num_classes=self.classes)\n",
    "        x = x.view(-1, self.input_size)\n",
    "\n",
    "        inp = torch.cat([x, oh], dim=1)\n",
    "        inp = self.disc(inp)\n",
    "\n",
    "        inp = self.classifier(inp)\n",
    "        inp = self.act(inp)\n",
    "        return inp"
   ]
  },
  {
   "cell_type": "code",
   "execution_count": 22,
   "metadata": {},
   "outputs": [],
   "source": [
    "def _train_cgenerator(batch, labels, gen, disc, nz, gen_loss, gen_opt, device):\n",
    "    gen_opt.zero_grad()\n",
    "\n",
    "    noise = torch.randn(batch.shape[0], nz, device=device)\n",
    "    fake_img = gen(noise, labels)    \n",
    "    fake_preds = disc(fake_img, labels)\n",
    "    targets = torch.ones(batch.shape[0], 1, device=device)\n",
    "\n",
    "    g_loss = gen_loss(fake_preds, targets)\n",
    "    g_loss.backward()\n",
    "    gen_opt.step()\n",
    "\n",
    "    return g_loss"
   ]
  },
  {
   "cell_type": "code",
   "execution_count": 23,
   "metadata": {},
   "outputs": [],
   "source": [
    "def _train_cdiscriminator(batch, labels, gen, disc, nz, disc_loss, disc_opt, device):\n",
    "    #training discriminator\n",
    "    disc_opt.zero_grad()\n",
    "\n",
    "    real_preds = disc(batch, labels)\n",
    "    real_targets = 0.9 * torch.ones(batch.shape[0], 1, device=device)\n",
    "    real_loss = disc_loss(real_preds, real_targets)\n",
    "    \n",
    "    #generate fake images\n",
    "    noise = torch.randn(batch.shape[0], nz, device=device)\n",
    "    fake_img = gen(noise, labels)\n",
    "\n",
    "    fake_preds = disc(fake_img, labels)\n",
    "    fake_targets = torch.zeros(batch.shape[0], 1, device=device)\n",
    "    fake_loss = disc_loss(fake_preds, fake_targets)\n",
    "\n",
    "    d_loss = real_loss + fake_loss\n",
    "    d_loss.backward()\n",
    "    disc_opt.step()\n",
    "\n",
    "    return real_loss, fake_loss, d_loss"
   ]
  },
  {
   "cell_type": "code",
   "execution_count": 24,
   "metadata": {},
   "outputs": [],
   "source": [
    "def train_cgan(gen, gen_loss, gen_opt,\n",
    "              disc, disc_loss, disc_opt,\n",
    "              dataloader, device='cpu', epochs=1, nz=32):\n",
    "    print(device)\n",
    "    device = torch.device(device)\n",
    "    \n",
    "    gen.train()\n",
    "    disc.train()\n",
    "    \n",
    "    gen_loss.to(device)\n",
    "    disc_loss.to(device)\n",
    "    \n",
    "    gen.to(device)\n",
    "    disc.to(device)\n",
    "    \n",
    "    losses_d = []\n",
    "    losses_g = []\n",
    "    real_scores = []\n",
    "    fake_scores = []\n",
    "    \n",
    "    for epoch in range(epochs):\n",
    "\n",
    "        losses_d_running = []\n",
    "        losses_g_running = []\n",
    "        real_scores_running = []\n",
    "        fake_scores_running = []\n",
    "        \n",
    "        for index, batch in enumerate(tqdm(dataloader)):\n",
    "            input_, labels = batch\n",
    "\n",
    "            input_ = input_.to(device)\n",
    "            labels = labels.to(device)\n",
    "\n",
    "            real_loss, fake_loss, d_loss = _train_cdiscriminator(\n",
    "                input_,\n",
    "                labels,\n",
    "                gen=gen,\n",
    "                disc=disc,\n",
    "                nz=nz,\n",
    "                disc_loss=disc_loss,\n",
    "                disc_opt=disc_opt,\n",
    "                device=device, \n",
    "            )\n",
    "\n",
    "            losses_d_running.append(d_loss.item())\n",
    "\n",
    "            real_score, fake_score = _count_scores(real_loss, fake_loss)\n",
    "\n",
    "            \n",
    "            real_scores_running.append(real_score)\n",
    "            fake_scores_running.append(fake_score)\n",
    "            \n",
    "            if index % 4 == 0:\n",
    "                #training generator\n",
    "                g_loss = _train_cgenerator(\n",
    "                    input_,\n",
    "                    labels,\n",
    "                    gen=gen,\n",
    "                    disc=disc,\n",
    "                    nz=nz,\n",
    "                    gen_loss=gen_loss,\n",
    "                    gen_opt=gen_opt,\n",
    "                    device=device, \n",
    "                )\n",
    "\n",
    "                losses_g_running.append(g_loss.item())\n",
    "        \n",
    "        losses_g.append(np.mean(losses_g_running))\n",
    "        losses_d.append(np.mean(losses_d_running))\n",
    "        real_scores.append(np.mean(real_scores_running))\n",
    "        fake_scores.append(np.mean(fake_scores_running))\n",
    "        print(\"Epoch [{}/{}], loss_g: {:.4f}, loss_d: {:.4f}, real_score: {:.4f}, fake_score: {:.4f}\".format(\n",
    "            epoch+1, epochs,\n",
    "            losses_g[-1], losses_d[-1], real_scores[-1], fake_scores[-1])\n",
    "        )\n",
    "    return losses_g, losses_d, real_scores, fake_scores"
   ]
  },
  {
   "cell_type": "code",
   "execution_count": 25,
   "metadata": {},
   "outputs": [],
   "source": [
    "cgen_loss = nn.BCELoss()\n",
    "cdisc_loss = nn.BCELoss()\n",
    "\n",
    "device = 'mps'"
   ]
  },
  {
   "cell_type": "code",
   "execution_count": 26,
   "metadata": {},
   "outputs": [],
   "source": [
    "hidden_dim = 32\n",
    "nz = 32\n",
    "epochs=15\n",
    "\n",
    "cdisc = Discriminator(hidden_dim=hidden_dim)\n",
    "cgen = Generator(nz, hidden_dim=hidden_dim)\n",
    "\n",
    "cdisc_optim = torch.optim.Adam(cdisc.parameters(), lr=1*10e-4)\n",
    "cgen_optim = torch.optim.Adam(cgen.parameters(), lr=1*10e-4)"
   ]
  },
  {
   "cell_type": "code",
   "execution_count": 27,
   "metadata": {},
   "outputs": [
    {
     "name": "stdout",
     "output_type": "stream",
     "text": [
      "mps\n"
     ]
    },
    {
     "name": "stderr",
     "output_type": "stream",
     "text": [
      "100%|██████████| 1875/1875 [00:24<00:00, 77.18it/s]\n"
     ]
    },
    {
     "name": "stdout",
     "output_type": "stream",
     "text": [
      "Epoch [1/15], loss_g: 7.3530, loss_d: 0.3686, real_score: 0.3496, fake_score: 0.0189\n"
     ]
    },
    {
     "name": "stderr",
     "output_type": "stream",
     "text": [
      "100%|██████████| 1875/1875 [00:22<00:00, 81.91it/s]\n"
     ]
    },
    {
     "name": "stdout",
     "output_type": "stream",
     "text": [
      "Epoch [2/15], loss_g: 6.5836, loss_d: 0.3614, real_score: 0.3528, fake_score: 0.0087\n"
     ]
    },
    {
     "name": "stderr",
     "output_type": "stream",
     "text": [
      "100%|██████████| 1875/1875 [00:23<00:00, 79.16it/s]\n"
     ]
    },
    {
     "name": "stdout",
     "output_type": "stream",
     "text": [
      "Epoch [3/15], loss_g: 6.5647, loss_d: 0.3696, real_score: 0.3573, fake_score: 0.0123\n"
     ]
    },
    {
     "name": "stderr",
     "output_type": "stream",
     "text": [
      "100%|██████████| 1875/1875 [00:23<00:00, 78.62it/s]\n"
     ]
    },
    {
     "name": "stdout",
     "output_type": "stream",
     "text": [
      "Epoch [4/15], loss_g: 5.9911, loss_d: 0.4092, real_score: 0.3809, fake_score: 0.0282\n"
     ]
    },
    {
     "name": "stderr",
     "output_type": "stream",
     "text": [
      "100%|██████████| 1875/1875 [00:24<00:00, 76.62it/s]\n"
     ]
    },
    {
     "name": "stdout",
     "output_type": "stream",
     "text": [
      "Epoch [5/15], loss_g: 5.1828, loss_d: 0.4834, real_score: 0.4209, fake_score: 0.0624\n"
     ]
    },
    {
     "name": "stderr",
     "output_type": "stream",
     "text": [
      "100%|██████████| 1875/1875 [00:25<00:00, 73.84it/s]\n"
     ]
    },
    {
     "name": "stdout",
     "output_type": "stream",
     "text": [
      "Epoch [6/15], loss_g: 4.5124, loss_d: 0.5364, real_score: 0.4478, fake_score: 0.0886\n"
     ]
    },
    {
     "name": "stderr",
     "output_type": "stream",
     "text": [
      "100%|██████████| 1875/1875 [00:25<00:00, 74.10it/s]\n"
     ]
    },
    {
     "name": "stdout",
     "output_type": "stream",
     "text": [
      "Epoch [7/15], loss_g: 3.8803, loss_d: 0.5964, real_score: 0.4772, fake_score: 0.1192\n"
     ]
    },
    {
     "name": "stderr",
     "output_type": "stream",
     "text": [
      "100%|██████████| 1875/1875 [00:24<00:00, 76.34it/s]\n"
     ]
    },
    {
     "name": "stdout",
     "output_type": "stream",
     "text": [
      "Epoch [8/15], loss_g: 3.5565, loss_d: 0.6561, real_score: 0.5020, fake_score: 0.1541\n"
     ]
    },
    {
     "name": "stderr",
     "output_type": "stream",
     "text": [
      "100%|██████████| 1875/1875 [00:23<00:00, 79.75it/s]\n"
     ]
    },
    {
     "name": "stdout",
     "output_type": "stream",
     "text": [
      "Epoch [9/15], loss_g: 3.1542, loss_d: 0.7159, real_score: 0.5305, fake_score: 0.1853\n"
     ]
    },
    {
     "name": "stderr",
     "output_type": "stream",
     "text": [
      "100%|██████████| 1875/1875 [00:24<00:00, 77.67it/s]\n"
     ]
    },
    {
     "name": "stdout",
     "output_type": "stream",
     "text": [
      "Epoch [10/15], loss_g: 3.0195, loss_d: 0.7345, real_score: 0.5364, fake_score: 0.1981\n"
     ]
    },
    {
     "name": "stderr",
     "output_type": "stream",
     "text": [
      "100%|██████████| 1875/1875 [00:23<00:00, 78.16it/s]\n"
     ]
    },
    {
     "name": "stdout",
     "output_type": "stream",
     "text": [
      "Epoch [11/15], loss_g: 2.7828, loss_d: 0.7678, real_score: 0.5524, fake_score: 0.2154\n"
     ]
    },
    {
     "name": "stderr",
     "output_type": "stream",
     "text": [
      "100%|██████████| 1875/1875 [00:24<00:00, 78.07it/s]\n"
     ]
    },
    {
     "name": "stdout",
     "output_type": "stream",
     "text": [
      "Epoch [12/15], loss_g: 2.8580, loss_d: 0.7560, real_score: 0.5476, fake_score: 0.2084\n"
     ]
    },
    {
     "name": "stderr",
     "output_type": "stream",
     "text": [
      "100%|██████████| 1875/1875 [00:24<00:00, 75.41it/s]\n"
     ]
    },
    {
     "name": "stdout",
     "output_type": "stream",
     "text": [
      "Epoch [13/15], loss_g: 2.6107, loss_d: 0.8068, real_score: 0.5688, fake_score: 0.2381\n"
     ]
    },
    {
     "name": "stderr",
     "output_type": "stream",
     "text": [
      "100%|██████████| 1875/1875 [00:23<00:00, 78.83it/s]\n"
     ]
    },
    {
     "name": "stdout",
     "output_type": "stream",
     "text": [
      "Epoch [14/15], loss_g: 2.4574, loss_d: 0.8372, real_score: 0.5822, fake_score: 0.2550\n"
     ]
    },
    {
     "name": "stderr",
     "output_type": "stream",
     "text": [
      "100%|██████████| 1875/1875 [00:24<00:00, 77.54it/s]"
     ]
    },
    {
     "name": "stdout",
     "output_type": "stream",
     "text": [
      "Epoch [15/15], loss_g: 2.2536, loss_d: 0.8836, real_score: 0.5979, fake_score: 0.2857\n"
     ]
    },
    {
     "name": "stderr",
     "output_type": "stream",
     "text": [
      "\n"
     ]
    }
   ],
   "source": [
    "g_loss, d_loss, real_score, fake_score = train_cgan(\n",
    "    cgen, cgen_loss, cgen_optim,\n",
    "    cdisc, cdisc_loss, cdisc_optim,\n",
    "    dataloader, device, epochs=epochs, nz=nz,\n",
    "    )"
   ]
  },
  {
   "cell_type": "code",
   "execution_count": null,
   "metadata": {},
   "outputs": [],
   "source": [
    "plt.plot(g_loss, label = 'gen loss')\n",
    "plt.plot(d_loss, label = 'disc loss')\n",
    "plt.legend()\n",
    "plt.show()"
   ]
  },
  {
   "cell_type": "code",
   "execution_count": null,
   "metadata": {},
   "outputs": [],
   "source": [
    "plt.plot(real_score, label = 'real score')\n",
    "plt.plot(fake_score, label = 'fake score')\n",
    "plt.legend()\n",
    "plt.show()"
   ]
  },
  {
   "cell_type": "code",
   "execution_count": 32,
   "metadata": {},
   "outputs": [],
   "source": [
    "# helper function for viewing a list of passed in sample images\n",
    "def view_samples(samples):\n",
    "    fig, axes = plt.subplots(figsize=(7,7), nrows=4, ncols=4, sharey=True, sharex=True)\n",
    "    for ax, img in zip(axes.flatten(), samples):\n",
    "        img = img.detach().cpu()\n",
    "        ax.xaxis.set_visible(False)\n",
    "        ax.yaxis.set_visible(False)\n",
    "        im = ax.imshow(img.reshape((28,28)), cmap='Greys_r')"
   ]
  },
  {
   "cell_type": "code",
   "execution_count": 35,
   "metadata": {},
   "outputs": [
    {
     "data": {
      "image/png": "[encoded data removed]",
      "text/plain": [
       "<Figure size 700x700 with 16 Axes>"
      ]
     },
     "metadata": {},
     "output_type": "display_data"
    }
   ],
   "source": [
    "sample_size = 16\n",
    "fixed_z = torch.randn(sample_size, nz, device=device)\n",
    "y = torch.tensor(np.random.randint(0, 10, size=(sample_size)))\n",
    "\n",
    "with torch.no_grad():\n",
    "    fixed_z = fixed_z.to('mps')\n",
    "    y = y.to('mps')\n",
    "    samples = cgen(fixed_z, y)\n",
    "    view_samples(samples)"
   ]
  },
  {
   "cell_type": "code",
   "execution_count": null,
   "metadata": {},
   "outputs": [],
   "source": []
  }
 ],
 "metadata": {
  "kernelspec": {
   "display_name": "itmo_dl",
   "language": "python",
   "name": "python3"
  },
  "language_info": {
   "codemirror_mode": {
    "name": "ipython",
    "version": 3
   },
   "file_extension": ".py",
   "mimetype": "text/x-python",
   "name": "python",
   "nbconvert_exporter": "python",
   "pygments_lexer": "ipython3",
   "version": "3.10.13"
  }
 },
 "nbformat": 4,
 "nbformat_minor": 2
}
